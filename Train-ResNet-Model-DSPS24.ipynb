{
 "cells": [
  {
   "cell_type": "markdown",
   "metadata": {},
   "source": [
    "## Import relevant libraries"
   ]
  },
  {
   "cell_type": "code",
   "execution_count": 4,
   "metadata": {
    "execution": {
     "iopub.execute_input": "2024-02-24T15:40:30.465340Z",
     "iopub.status.busy": "2024-02-24T15:40:30.464746Z",
     "iopub.status.idle": "2024-02-24T15:40:30.477646Z",
     "shell.execute_reply": "2024-02-24T15:40:30.476423Z",
     "shell.execute_reply.started": "2024-02-24T15:40:30.465294Z"
    },
    "id": "C0EeIdseh9iV"
   },
   "outputs": [],
   "source": [
    "import pandas as pd\n",
    "import numpy as np\n",
    "import json\n",
    "import torch\n",
    "import os\n",
    "import shutil\n",
    "import glob\n",
    "import random\n",
    "import matplotlib.pyplot as plt\n",
    "from tqdm.notebook import tqdm\n",
    "%matplotlib inline\n",
    "import seaborn as sns\n",
    "import cv2\n",
    "\n",
    "\n",
    "import torch\n",
    "import torch.nn as nn\n",
    "import torch.optim as optim\n",
    "from torch.utils.data import Dataset, DataLoader, random_split\n",
    "import torchvision.transforms as transforms\n",
    "import torchvision\n",
    "import torch.optim as optim\n",
    "from PIL import Image\n",
    "from torch.optim import lr_scheduler\n",
    "from skimage import io\n",
    "import torch.nn.functional as F\n",
    "from torchvision.models import ResNet50_Weights, SqueezeNet1_1_Weights, ResNet101_Weights\n",
    "import torchvision.models as models\n",
    "from PIL import ImageFile\n",
    "import warnings\n",
    "warnings.filterwarnings('ignore')"
   ]
  },
  {
   "cell_type": "code",
   "execution_count": 62,
   "metadata": {
    "execution": {
     "iopub.execute_input": "2024-02-24T06:15:21.406883Z",
     "iopub.status.busy": "2024-02-24T06:15:21.405681Z",
     "iopub.status.idle": "2024-02-24T06:15:21.458269Z",
     "shell.execute_reply": "2024-02-24T06:15:21.457477Z",
     "shell.execute_reply.started": "2024-02-24T06:15:21.406836Z"
    }
   },
   "outputs": [
    {
     "data": {
      "text/plain": [
       "(7704, 2)"
      ]
     },
     "execution_count": 62,
     "metadata": {},
     "output_type": "execute_result"
    }
   ],
   "source": [
    "label_csv_path = '/notebooks/new_data/train.csv'\n",
    "df = pd.read_csv(label_csv_path)\n",
    "df.shape"
   ]
  },
  {
   "cell_type": "code",
   "execution_count": 11,
   "metadata": {
    "execution": {
     "iopub.execute_input": "2024-02-07T21:05:26.941848Z",
     "iopub.status.busy": "2024-02-07T21:05:26.941414Z",
     "iopub.status.idle": "2024-02-07T21:05:26.951826Z",
     "shell.execute_reply": "2024-02-07T21:05:26.950681Z",
     "shell.execute_reply.started": "2024-02-07T21:05:26.941841Z"
    }
   },
   "outputs": [
    {
     "data": {
      "text/html": [
       "<div>\n",
       "<style scoped>\n",
       "    .dataframe tbody tr th:only-of-type {\n",
       "        vertical-align: middle;\n",
       "    }\n",
       "\n",
       "    .dataframe tbody tr th {\n",
       "        vertical-align: top;\n",
       "    }\n",
       "\n",
       "    .dataframe thead th {\n",
       "        text-align: right;\n",
       "    }\n",
       "</style>\n",
       "<table border=\"1\" class=\"dataframe\">\n",
       "  <thead>\n",
       "    <tr style=\"text-align: right;\">\n",
       "      <th></th>\n",
       "      <th>image_name</th>\n",
       "      <th>pci</th>\n",
       "    </tr>\n",
       "  </thead>\n",
       "  <tbody>\n",
       "    <tr>\n",
       "      <th>0</th>\n",
       "      <td>10745_[40.72376740448161, -89.44599936927897]_...</td>\n",
       "      <td>100</td>\n",
       "    </tr>\n",
       "    <tr>\n",
       "      <th>1</th>\n",
       "      <td>49812_[40.700766104509725, -89.3989279463273]_...</td>\n",
       "      <td>100</td>\n",
       "    </tr>\n",
       "    <tr>\n",
       "      <th>2</th>\n",
       "      <td>60080_(40.69357, -89.45994)_ 2023-10-20 18-29-...</td>\n",
       "      <td>100</td>\n",
       "    </tr>\n",
       "    <tr>\n",
       "      <th>3</th>\n",
       "      <td>2205_(40.7031665, -89.4067306666667)_ 2023-10-...</td>\n",
       "      <td>12</td>\n",
       "    </tr>\n",
       "    <tr>\n",
       "      <th>4</th>\n",
       "      <td>28158_[40.7079780926376, -89.39486040573811]_ ...</td>\n",
       "      <td>100</td>\n",
       "    </tr>\n",
       "  </tbody>\n",
       "</table>\n",
       "</div>"
      ],
      "text/plain": [
       "                                          image_name  pci\n",
       "0  10745_[40.72376740448161, -89.44599936927897]_...  100\n",
       "1  49812_[40.700766104509725, -89.3989279463273]_...  100\n",
       "2  60080_(40.69357, -89.45994)_ 2023-10-20 18-29-...  100\n",
       "3  2205_(40.7031665, -89.4067306666667)_ 2023-10-...   12\n",
       "4  28158_[40.7079780926376, -89.39486040573811]_ ...  100"
      ]
     },
     "execution_count": 11,
     "metadata": {},
     "output_type": "execute_result"
    }
   ],
   "source": [
    "df.head()"
   ]
  },
  {
   "cell_type": "markdown",
   "metadata": {},
   "source": [
    "## Plot PCI Distributions"
   ]
  },
  {
   "cell_type": "code",
   "execution_count": 3,
   "metadata": {
    "execution": {
     "iopub.execute_input": "2024-02-22T15:07:07.844508Z",
     "iopub.status.busy": "2024-02-22T15:07:07.843748Z",
     "iopub.status.idle": "2024-02-22T15:07:08.107685Z",
     "shell.execute_reply": "2024-02-22T15:07:08.106919Z",
     "shell.execute_reply.started": "2024-02-22T15:07:07.844456Z"
    }
   },
   "outputs": [
    {
     "data": {
      "image/png": "[encoded data removed]",
      "text/plain": [
       "<Figure size 640x480 with 1 Axes>"
      ]
     },
     "metadata": {},
     "output_type": "display_data"
    }
   ],
   "source": [
    "def plot_pci_dist(label_csv_path):\n",
    "    labels = pd.read_csv(label_csv_path)\n",
    "    labels['pci'].plot.hist();\n",
    "    plt.title('PCI Distribution', size=20)\n",
    "    plt.xlabel('PCI', size=15)\n",
    "    plt.ylabel('Frequency', size=15)\n",
    "    \n",
    "plot_pci_dist(label_csv_path)"
   ]
  },
  {
   "cell_type": "code",
   "execution_count": 63,
   "metadata": {
    "colab": {
     "base_uri": "https://localhost:8080/",
     "height": 363
    },
    "execution": {
     "iopub.execute_input": "2024-02-24T06:15:34.168749Z",
     "iopub.status.busy": "2024-02-24T06:15:34.167682Z",
     "iopub.status.idle": "2024-02-24T06:15:34.216916Z",
     "shell.execute_reply": "2024-02-24T06:15:34.215413Z",
     "shell.execute_reply.started": "2024-02-24T06:15:34.168695Z"
    },
    "id": "GwLp80VT2JCn",
    "outputId": "2b7704d6-cbad-4fdc-c110-67c70ba26b5d"
   },
   "outputs": [
    {
     "data": {
      "text/html": [
       "<div>\n",
       "<style scoped>\n",
       "    .dataframe tbody tr th:only-of-type {\n",
       "        vertical-align: middle;\n",
       "    }\n",
       "\n",
       "    .dataframe tbody tr th {\n",
       "        vertical-align: top;\n",
       "    }\n",
       "\n",
       "    .dataframe thead th {\n",
       "        text-align: right;\n",
       "    }\n",
       "</style>\n",
       "<table border=\"1\" class=\"dataframe\">\n",
       "  <thead>\n",
       "    <tr style=\"text-align: right;\">\n",
       "      <th></th>\n",
       "      <th>image_name</th>\n",
       "      <th>Section</th>\n",
       "      <th>PCI</th>\n",
       "    </tr>\n",
       "  </thead>\n",
       "  <tbody>\n",
       "    <tr>\n",
       "      <th>0</th>\n",
       "      <td>2_[40.71559672113631, -89.44453775765967]_ 202...</td>\n",
       "      <td>WEST CRUGER ROAD_1090.0</td>\n",
       "      <td>100</td>\n",
       "    </tr>\n",
       "    <tr>\n",
       "      <th>1</th>\n",
       "      <td>6_(40.7157681666667, -89.4445288333333)_ 2023-...</td>\n",
       "      <td>WEST CRUGER ROAD_1090.0</td>\n",
       "      <td>4</td>\n",
       "    </tr>\n",
       "    <tr>\n",
       "      <th>2</th>\n",
       "      <td>8_[40.71583783238075, -89.44448434498877]_ 202...</td>\n",
       "      <td>WEST CRUGER ROAD_1090.0</td>\n",
       "      <td>28</td>\n",
       "    </tr>\n",
       "    <tr>\n",
       "      <th>3</th>\n",
       "      <td>11_(40.7159545, -89.4444771666667)_ 2023-10-18...</td>\n",
       "      <td>WEST CRUGER ROAD_1090.0</td>\n",
       "      <td>45</td>\n",
       "    </tr>\n",
       "    <tr>\n",
       "      <th>4</th>\n",
       "      <td>18_[40.71609699834105, -89.44429173064164]_ 20...</td>\n",
       "      <td>WEST CRUGER ROAD_1090.0</td>\n",
       "      <td>82</td>\n",
       "    </tr>\n",
       "    <tr>\n",
       "      <th>5</th>\n",
       "      <td>19_(40.7161271666667, -89.4442431666667)_ 2023...</td>\n",
       "      <td>WEST CRUGER ROAD_1090.0</td>\n",
       "      <td>88</td>\n",
       "    </tr>\n",
       "    <tr>\n",
       "      <th>6</th>\n",
       "      <td>29_[40.716163677112554, -89.44372516272288]_ 2...</td>\n",
       "      <td>WEST CRUGER ROAD_1090.0</td>\n",
       "      <td>78</td>\n",
       "    </tr>\n",
       "    <tr>\n",
       "      <th>7</th>\n",
       "      <td>46_(40.7163928333333, -89.4427958333333)_ 2023...</td>\n",
       "      <td>WEST CRUGER ROAD_1090.0</td>\n",
       "      <td>78</td>\n",
       "    </tr>\n",
       "    <tr>\n",
       "      <th>8</th>\n",
       "      <td>61_[40.71653013205482, -89.44207694856078]_ 20...</td>\n",
       "      <td>WEST CRUGER ROAD_1090.0</td>\n",
       "      <td>82</td>\n",
       "    </tr>\n",
       "    <tr>\n",
       "      <th>9</th>\n",
       "      <td>67_(40.7166245, -89.4417893333333)_ 2023-10-18...</td>\n",
       "      <td>WEST CRUGER ROAD_1090.0</td>\n",
       "      <td>82</td>\n",
       "    </tr>\n",
       "  </tbody>\n",
       "</table>\n",
       "</div>"
      ],
      "text/plain": [
       "                                          image_name                  Section  \\\n",
       "0  2_[40.71559672113631, -89.44453775765967]_ 202...  WEST CRUGER ROAD_1090.0   \n",
       "1  6_(40.7157681666667, -89.4445288333333)_ 2023-...  WEST CRUGER ROAD_1090.0   \n",
       "2  8_[40.71583783238075, -89.44448434498877]_ 202...  WEST CRUGER ROAD_1090.0   \n",
       "3  11_(40.7159545, -89.4444771666667)_ 2023-10-18...  WEST CRUGER ROAD_1090.0   \n",
       "4  18_[40.71609699834105, -89.44429173064164]_ 20...  WEST CRUGER ROAD_1090.0   \n",
       "5  19_(40.7161271666667, -89.4442431666667)_ 2023...  WEST CRUGER ROAD_1090.0   \n",
       "6  29_[40.716163677112554, -89.44372516272288]_ 2...  WEST CRUGER ROAD_1090.0   \n",
       "7  46_(40.7163928333333, -89.4427958333333)_ 2023...  WEST CRUGER ROAD_1090.0   \n",
       "8  61_[40.71653013205482, -89.44207694856078]_ 20...  WEST CRUGER ROAD_1090.0   \n",
       "9  67_(40.7166245, -89.4417893333333)_ 2023-10-18...  WEST CRUGER ROAD_1090.0   \n",
       "\n",
       "   PCI  \n",
       "0  100  \n",
       "1    4  \n",
       "2   28  \n",
       "3   45  \n",
       "4   82  \n",
       "5   88  \n",
       "6   78  \n",
       "7   78  \n",
       "8   82  \n",
       "9   82  "
      ]
     },
     "execution_count": 63,
     "metadata": {},
     "output_type": "execute_result"
    }
   ],
   "source": [
    "image_folder_path = 'data/train'\n",
    "\n",
    "label = pd.read_csv('data/train.csv')\n",
    "label.head(10)"
   ]
  },
  {
   "cell_type": "markdown",
   "metadata": {
    "execution": {
     "iopub.execute_input": "2024-02-22T11:05:57.194245Z",
     "iopub.status.busy": "2024-02-22T11:05:57.193766Z",
     "iopub.status.idle": "2024-02-22T11:05:57.197769Z",
     "shell.execute_reply": "2024-02-22T11:05:57.197150Z",
     "shell.execute_reply.started": "2024-02-22T11:05:57.194216Z"
    }
   },
   "source": [
    "## Create Dataset"
   ]
  },
  {
   "cell_type": "code",
   "execution_count": 2,
   "metadata": {
    "execution": {
     "iopub.execute_input": "2024-02-24T01:51:28.884827Z",
     "iopub.status.busy": "2024-02-24T01:51:28.883440Z",
     "iopub.status.idle": "2024-02-24T01:51:28.893843Z",
     "shell.execute_reply": "2024-02-24T01:51:28.892654Z",
     "shell.execute_reply.started": "2024-02-24T01:51:28.884786Z"
    },
    "id": "R3L8cRsjmMxz"
   },
   "outputs": [],
   "source": [
    "# Loading images\n",
    "class PCIDataset(Dataset):\n",
    "    def __init__(self, label_csv, image_dir, transform=None, under_transform=None):\n",
    "        self.labels = pd.read_csv(label_csv)\n",
    "        \n",
    "        files_to_remove = ['1119_(40.7034233333333, -89.4052588333333)_ 2023-10-18 15-49-01_14.30605_D.jpg', \n",
    "                   '11980_(40.6916493333333, -89.4393206666667)_ 2023-10-20 16-10-54_28.5085_D.jpg']\n",
    "\n",
    "        self.labels = self.labels[~self.labels['image_name'].isin(files_to_remove)]\n",
    "        self.image_dir = image_dir\n",
    "        self.transform = transform\n",
    "        \n",
    "    def __len__(self):\n",
    "        return self.labels.shape[0]\n",
    "\n",
    "    def __getitem__(self, idx):\n",
    "        img_path = os.path.join(self.image_dir, self.labels.iloc[idx, 0])\n",
    "        image = Image.open(img_path).convert('RGB')\n",
    "        label = self.labels.iloc[idx, 1]\n",
    "        label = torch.tensor(float(label)) if label >= 0 else torch.tensor(0.0)\n",
    "\n",
    "        # if self.under_transform and label <= 60: # if the PCI is less than or equal 60, consider as underepresented \n",
    "        #     image = self.under_transform(image)\n",
    "        # else:\n",
    "        image = self.transform(image)\n",
    "\n",
    "        return image, label"
   ]
  },
  {
   "cell_type": "markdown",
   "metadata": {},
   "source": [
    "Deleted images: <br>\n",
    "> Images were corrupted \n",
    "\n",
    "`new_data/train/1119_(40.7034233333333, -89.4052588333333)_ 2023-10-18 15-49-01_14.30605_D.jpg`\n",
    "`new_data/train/11980_(40.6916493333333, -89.4393206666667)_ 2023-10-20 16-10-54_28.5085_D.jpg`"
   ]
  },
  {
   "cell_type": "markdown",
   "metadata": {},
   "source": [
    "## Define Data Transforms "
   ]
  },
  {
   "cell_type": "code",
   "execution_count": 64,
   "metadata": {
    "execution": {
     "iopub.execute_input": "2024-02-24T06:17:30.437402Z",
     "iopub.status.busy": "2024-02-24T06:17:30.436733Z",
     "iopub.status.idle": "2024-02-24T06:17:30.443875Z",
     "shell.execute_reply": "2024-02-24T06:17:30.442695Z",
     "shell.execute_reply.started": "2024-02-24T06:17:30.437373Z"
    },
    "id": "hsE9pcY-omdn"
   },
   "outputs": [],
   "source": [
    "# random.seed(0)\n",
    "\n",
    "# Training transforns\n",
    "transform = transforms.Compose([\n",
    "    transforms.Resize((224, 224)),\n",
    "    transforms.ColorJitter(brightness=0.2, contrast=0.2, \n",
    "                           saturation=0.2, hue=0.2),\n",
    "    transforms.RandomHorizontalFlip(p=0.6),\n",
    "    transforms.RandomVerticalFlip(p=0.6),\n",
    "    transforms.RandomRotation(degrees=45),\n",
    "    transforms.RandomGrayscale(p=0.5),\n",
    "    transforms.ToTensor(),\n",
    "    transforms.Normalize(mean=[0.485, 0.456, 0.406], \n",
    "                         std=[0.229, 0.224, 0.225])\n",
    "])"
   ]
  },
  {
   "cell_type": "markdown",
   "metadata": {},
   "source": [
    "## Instantiate the Dataset"
   ]
  },
  {
   "cell_type": "code",
   "execution_count": 65,
   "metadata": {
    "execution": {
     "iopub.execute_input": "2024-02-24T06:18:04.352820Z",
     "iopub.status.busy": "2024-02-24T06:18:04.351862Z",
     "iopub.status.idle": "2024-02-24T06:18:04.376452Z",
     "shell.execute_reply": "2024-02-24T06:18:04.375570Z",
     "shell.execute_reply.started": "2024-02-24T06:18:04.352779Z"
    }
   },
   "outputs": [],
   "source": [
    "label_file_path =  'new_data/train.csv'\n",
    "image_dir = 'new_data/train'\n",
    "dataset = PCIDataset(label_csv=label_file_path, \n",
    "                            image_dir=image_dir, \n",
    "                            transform=transform)\n",
    "\n",
    "train_size = int(0.8 * len(dataset))\n",
    "val_size = len(dataset) - train_size\n",
    "\n",
    "# Perform Random data split\n",
    "train_dataset, val_dataset = random_split(dataset, \n",
    "                                          [train_size, val_size])\n",
    "train_loader = DataLoader(dataset=train_dataset, batch_size=64, \n",
    "                          num_workers=8, pin_memory=True, shuffle=True)\n",
    "valid_loader = DataLoader(dataset=val_dataset, batch_size=64, num_workers=8, \n",
    "                          pin_memory=True, shuffle=False) "
   ]
  },
  {
   "cell_type": "markdown",
   "metadata": {},
   "source": [
    "### Load ResNet Pretrained model \n",
    "\n",
    "> We train two variants of Resnet models: <br>\n",
    "\n",
    "\n",
    "```python\n",
    "ResNet50\n",
    "ResNet101\n",
    "```\n",
    "\n",
    "```python\n",
    "We adapt the head of the model and treat the \n",
    "task as a regression problem\n",
    "```\n",
    "\n",
    "```python\n",
    "To train a resnet variant of some fixed number of layers:\n",
    "e.g, number_of_layers = 101\n",
    "models.resnet101(weights=True)\n",
    "```\n"
   ]
  },
  {
   "cell_type": "code",
   "execution_count": 66,
   "metadata": {
    "colab": {
     "base_uri": "https://localhost:8080/"
    },
    "execution": {
     "iopub.execute_input": "2024-02-24T06:19:07.480783Z",
     "iopub.status.busy": "2024-02-24T06:19:07.480314Z",
     "iopub.status.idle": "2024-02-24T06:19:10.065502Z",
     "shell.execute_reply": "2024-02-24T06:19:10.064276Z",
     "shell.execute_reply.started": "2024-02-24T06:19:07.480744Z"
    },
    "id": "QfynXJgsomdo",
    "outputId": "0c33abff-c7c5-457f-8c1b-c1141428711d"
   },
   "outputs": [
    {
     "name": "stderr",
     "output_type": "stream",
     "text": [
      "/usr/local/lib/python3.9/dist-packages/torchvision/models/_utils.py:223: UserWarning: Arguments other than a weight enum or `None` for 'weights' are deprecated since 0.13 and will be removed in 0.15. The current behavior is equivalent to passing `weights=ResNet101_Weights.IMAGENET1K_V1`. You can also use `weights=ResNet101_Weights.DEFAULT` to get the most up-to-date weights.\n",
      "  warnings.warn(msg)\n"
     ]
    }
   ],
   "source": [
    "resnet_model = models.resnet101(weights=True)\n",
    "num_ftrs = resnet_model.fc.in_features\n",
    "resnet_model.fc = nn.Linear(num_ftrs, 1)\n",
    "\n",
    "device = torch.device('cuda' if torch.cuda.is_available() else 'cpu')\n",
    "resnet_model = resnet_model.to(device)"
   ]
  },
  {
   "cell_type": "markdown",
   "metadata": {},
   "source": [
    "## Define Loss Function and Optimizer "
   ]
  },
  {
   "cell_type": "code",
   "execution_count": 6,
   "metadata": {
    "execution": {
     "iopub.execute_input": "2024-02-24T01:51:50.796118Z",
     "iopub.status.busy": "2024-02-24T01:51:50.795747Z",
     "iopub.status.idle": "2024-02-24T01:51:50.804236Z",
     "shell.execute_reply": "2024-02-24T01:51:50.803299Z",
     "shell.execute_reply.started": "2024-02-24T01:51:50.796091Z"
    },
    "id": "2bTot7Jcomdo"
   },
   "outputs": [],
   "source": [
    "# Define loss function and optimizer\n",
    "criterion = nn.MSELoss()\n",
    "optimizer = optim.Adam(resnet_model.parameters(), lr=0.0001)\n",
    "\n",
    "step_lr_scheduler = lr_scheduler.StepLR(optimizer, step_size=10, gamma=0.1)"
   ]
  },
  {
   "cell_type": "code",
   "execution_count": 7,
   "metadata": {
    "execution": {
     "iopub.execute_input": "2024-02-24T01:51:53.893292Z",
     "iopub.status.busy": "2024-02-24T01:51:53.892880Z",
     "iopub.status.idle": "2024-02-24T01:51:53.907278Z",
     "shell.execute_reply": "2024-02-24T01:51:53.906430Z",
     "shell.execute_reply.started": "2024-02-24T01:51:53.893264Z"
    },
    "id": "bDvYvmbb0TOV"
   },
   "outputs": [],
   "source": [
    "def train_and_validate(model, train_loader, valid_loader,\n",
    "                       criterion, optimizer, scheduler, epochs, device):\n",
    "\n",
    "    patience = 500\n",
    "    counter_early_stop = 0\n",
    "    early_stop = False\n",
    "    best_val_loss = 1000000\n",
    "\n",
    "    model.train()\n",
    "    train_losses, val_losses, val_mapes = [], [], []\n",
    "\n",
    "    for epoch in tqdm(range(epochs)):\n",
    "        total_train_loss = 0\n",
    "\n",
    "        for data, targets in train_loader:\n",
    "            data, targets = data.to(device), targets.to(device)\n",
    "            optimizer.zero_grad()\n",
    "            outputs = model(data)\n",
    "            loss = criterion(outputs.squeeze(), targets.float())\n",
    "            loss.backward()\n",
    "            optimizer.step()\n",
    "            total_train_loss += loss.item()\n",
    "\n",
    "        train_loss = total_train_loss / len(train_loader)\n",
    "        train_losses.append(train_loss)\n",
    "\n",
    "        # Learning rate scheduler step\n",
    "        # scheduler.step()\n",
    "\n",
    "        # Validation phase\n",
    "        model.eval()\n",
    "        total_val_loss = 0\n",
    "        total_val_mape = 0\n",
    "\n",
    "        with torch.no_grad():\n",
    "            for data, targets in valid_loader:\n",
    "                data, targets = data.to(device), targets.to(device)\n",
    "                outputs = model(data)\n",
    "                val_loss = criterion(outputs.squeeze(), targets.float())\n",
    "                total_val_loss += val_loss.item()\n",
    "\n",
    "                #Calculate MAPE\n",
    "                nonzero_indices = targets != 0\n",
    "                outputs = outputs[nonzero_indices]\n",
    "                targets = targets[nonzero_indices]\n",
    "\n",
    "                mape = torch.mean(torch.abs((targets - outputs.squeeze()) / targets)) * 100\n",
    "                total_val_mape += mape.item()\n",
    "\n",
    "        val_loss = total_val_loss / len(valid_loader)\n",
    "        val_losses.append(val_loss)\n",
    "        val_mape = total_val_mape / len(valid_loader)\n",
    "        val_mapes.append(val_mape)\n",
    "        \n",
    "        # Apply learning rate scheduler after Validation\n",
    "        # plateau_scheduler.step(val_loss)\n",
    "        # Save thes last checkpoint \n",
    "        # torch.save({\n",
    "        #     'epoch': epoch,\n",
    "        #     'model_state_dict': model.state_dict(),\n",
    "        #     'train loss' : train_loss,\n",
    "        #     'val loss':val_loss,\n",
    "        #     'val mape':val_mape,\n",
    "        #     'optimizer_state_dict': optimizer.state_dict(),\n",
    "        #     'scheduler_state_dict': scheduler.state_dict(),\n",
    "        # }, 'trained_models/new_dataset/last_model_resnet101_full_dataset_random_split.pth')\n",
    "\n",
    "        # Save the model if validation loss has improved\n",
    "        \n",
    "        if val_loss < best_val_loss:\n",
    "\n",
    "            best_val_loss = val_loss\n",
    "            torch.save({\n",
    "            'epoch': epoch,\n",
    "            'model_state_dict': model.state_dict(),\n",
    "            'train loss' : train_loss,\n",
    "            'val loss' : val_loss,\n",
    "            'val mape': val_mape,\n",
    "            'optimizer_state_dict': optimizer.state_dict(),\n",
    "            'scheduler_state_dict': scheduler.state_dict(),\n",
    "            }, 'trained_models/new_dataset/best_resnet101_full_dataset_random_split_deadline.pth')\n",
    "            print(\"Model saved as validation loss improved.\")\n",
    "            counter_early_stop = 0\n",
    "\n",
    "        else:\n",
    "            counter_early_stop += 1\n",
    "            if counter_early_stop >= patience:\n",
    "                print(f\"Early stopping triggered after epoch {epoch+1}.\")\n",
    "                early_stop = True\n",
    "                break\n",
    "\n",
    "        if early_stop:\n",
    "            print(\"Early stopping\")\n",
    "            break\n",
    "\n",
    "        print(f'Epoch {epoch+1}/{epochs}, Train Loss: {train_loss:.4f}, Val Loss: {val_loss:.4f}, Val MAPE: {val_mape:.2f}%')\n",
    "\n",
    "    return train_losses, val_losses, val_mapes"
   ]
  },
  {
   "cell_type": "markdown",
   "metadata": {
    "id": "RiVblC6Momdr"
   },
   "source": [
    "## Load trained Model from checkpoint"
   ]
  },
  {
   "cell_type": "code",
   "execution_count": 51,
   "metadata": {
    "colab": {
     "base_uri": "https://localhost:8080/"
    },
    "execution": {
     "iopub.execute_input": "2024-02-24T05:28:49.245807Z",
     "iopub.status.busy": "2024-02-24T05:28:49.244926Z",
     "iopub.status.idle": "2024-02-24T05:28:52.802973Z",
     "shell.execute_reply": "2024-02-24T05:28:52.802227Z",
     "shell.execute_reply.started": "2024-02-24T05:28:49.245763Z"
    },
    "id": "TYjU_hTqomdr",
    "outputId": "4139e6b2-34d3-471d-f505-a016055f7327"
   },
   "outputs": [
    {
     "name": "stderr",
     "output_type": "stream",
     "text": [
      "/usr/local/lib/python3.9/dist-packages/torchvision/models/_utils.py:223: UserWarning: Arguments other than a weight enum or `None` for 'weights' are deprecated since 0.13 and will be removed in 0.15. The current behavior is equivalent to passing `weights=ResNet50_Weights.IMAGENET1K_V1`. You can also use `weights=ResNet50_Weights.DEFAULT` to get the most up-to-date weights.\n",
      "  warnings.warn(msg)\n",
      "Downloading: \"https://download.pytorch.org/models/resnet50-0676ba61.pth\" to /root/.cache/torch/hub/checkpoints/resnet50-0676ba61.pth\n"
     ]
    },
    {
     "data": {
      "application/vnd.jupyter.widget-view+json": {
       "model_id": "7679ca931ee14412a3b65deb0b616e92",
       "version_major": 2,
       "version_minor": 0
      },
      "text/plain": [
       "  0%|          | 0.00/97.8M [00:00<?, ?B/s]"
      ]
     },
     "metadata": {},
     "output_type": "display_data"
    },
    {
     "name": "stdout",
     "output_type": "stream",
     "text": [
      "Last epoch : 172\n",
      "Val loss : 239.14605947641226\n",
      "Val MAPE : 44.229422055757965\n"
     ]
    }
   ],
   "source": [
    "# Load the checkpoint\n",
    "PATH_TO_MODEL_CHECKPOINT = '/notebooks/best_model_results/best_model_resnet50_full_dataset_random_split_v3.pth'\n",
    "model = models.resnet50(weights=True)\n",
    "num_ftrs = model.fc.in_features\n",
    "model.fc = nn.Linear(num_ftrs, 1)\n",
    "\n",
    "device = torch.device('cuda' if torch.cuda.is_available() else 'cpu')\n",
    "checkpoint = torch.load(PATH_TO_MODEL_CHECKPOINT)\n",
    "\n",
    "model.load_state_dict(checkpoint['model_state_dict'])\n",
    "# optimizer.load_state_dict(checkpoint['optimizer_state_dict'])\n",
    "# scheduler.load_state_dict(checkpoint['scheduler_state_dict'])\n",
    "\n",
    "# The epoch number can be used to resume training\n",
    "last_epoch = checkpoint['epoch']\n",
    "print('Last epoch :', last_epoch)\n",
    "print('Val loss :', checkpoint['val loss'])\n",
    "print('Val MAPE :', checkpoint['val mape'])\n",
    "\n",
    "model = model.to(device)"
   ]
  },
  {
   "cell_type": "markdown",
   "metadata": {},
   "source": [
    "## Train the model "
   ]
  },
  {
   "cell_type": "markdown",
   "metadata": {},
   "source": [
    "To train the `ResNet` model:\n",
    "\n",
    "Run the cell below:"
   ]
  },
  {
   "cell_type": "code",
   "execution_count": 8,
   "metadata": {
    "colab": {
     "base_uri": "https://localhost:8080/",
     "height": 604,
     "referenced_widgets": [
      "714fac285a624ead809aa4f6399f2b47",
      "308f4e92208c489abf20301b0a51fca4",
      "0bc451c63f4c4e719fcdd99c6d8f99f0",
      "775e0d1c55c549d7a9eb46f8ca592f8f",
      "58b704ec3d2d41e494529910557c0b7a",
      "567531ede08a443699c0d4208556f8b9",
      "47510c0f60434aad92c81c1fe7eeed03",
      "bb96dc3f28104cd0b347a289766cc8df",
      "ea08319d1a18483ca377ce52f1ef9969",
      "1e650996f0bd490bbe1e035d7514dd8c",
      "660b1c3ff91e45f5b7accae2e0f70b41"
     ]
    },
    "execution": {
     "iopub.execute_input": "2024-02-24T01:52:05.252066Z",
     "iopub.status.busy": "2024-02-24T01:52:05.251509Z",
     "iopub.status.idle": "2024-02-24T04:35:26.624826Z",
     "shell.execute_reply": "2024-02-24T04:35:26.616997Z",
     "shell.execute_reply.started": "2024-02-24T01:52:05.252024Z"
    },
    "id": "vntTeK5V1qjS",
    "outputId": "3eb36aff-c908-42b0-f243-9c53904a9aa9"
   },
   "outputs": [
    {
     "data": {
      "application/vnd.jupyter.widget-view+json": {
       "model_id": "9dee1ed752e548a49fd8d07d23fdbf73",
       "version_major": 2,
       "version_minor": 0
      },
      "text/plain": [
       "  0%|          | 0/500 [00:00<?, ?it/s]"
      ]
     },
     "metadata": {},
     "output_type": "display_data"
    },
    {
     "name": "stdout",
     "output_type": "stream",
     "text": [
      "Model saved as validation loss improved.\n",
      "Epoch 1/500, Train Loss: 2660.3424, Val Loss: 1450.3781, Val MAPE: 60.31%\n",
      "Model saved as validation loss improved.\n",
      "Epoch 2/500, Train Loss: 615.9401, Val Loss: 435.3592, Val MAPE: 60.83%\n",
      "Model saved as validation loss improved.\n",
      "Epoch 3/500, Train Loss: 416.1014, Val Loss: 359.9124, Val MAPE: 64.04%\n",
      "Epoch 4/500, Train Loss: 378.9827, Val Loss: 440.5220, Val MAPE: 48.96%\n",
      "Model saved as validation loss improved.\n",
      "Epoch 5/500, Train Loss: 376.3316, Val Loss: 350.3273, Val MAPE: 58.87%\n",
      "Model saved as validation loss improved.\n",
      "Epoch 6/500, Train Loss: 340.8847, Val Loss: 321.4392, Val MAPE: 59.72%\n",
      "Epoch 7/500, Train Loss: 334.3678, Val Loss: 329.6518, Val MAPE: 56.04%\n",
      "Epoch 8/500, Train Loss: 311.7746, Val Loss: 338.4891, Val MAPE: 48.90%\n",
      "Epoch 9/500, Train Loss: 319.4106, Val Loss: 325.5968, Val MAPE: 48.05%\n",
      "Model saved as validation loss improved.\n",
      "Epoch 10/500, Train Loss: 295.0122, Val Loss: 305.2535, Val MAPE: 57.01%\n",
      "Model saved as validation loss improved.\n",
      "Epoch 11/500, Train Loss: 312.6995, Val Loss: 303.6512, Val MAPE: 59.86%\n",
      "Epoch 12/500, Train Loss: 269.1035, Val Loss: 354.2897, Val MAPE: 69.35%\n",
      "Model saved as validation loss improved.\n",
      "Epoch 13/500, Train Loss: 284.5363, Val Loss: 291.9124, Val MAPE: 56.09%\n",
      "Model saved as validation loss improved.\n",
      "Epoch 14/500, Train Loss: 272.8121, Val Loss: 283.2337, Val MAPE: 45.36%\n",
      "Epoch 15/500, Train Loss: 258.9615, Val Loss: 347.1102, Val MAPE: 67.55%\n",
      "Epoch 16/500, Train Loss: 268.6775, Val Loss: 295.1803, Val MAPE: 43.88%\n",
      "Epoch 17/500, Train Loss: 245.4648, Val Loss: 322.8822, Val MAPE: 44.44%\n",
      "Epoch 18/500, Train Loss: 242.9319, Val Loss: 296.3778, Val MAPE: 55.78%\n",
      "Model saved as validation loss improved.\n",
      "Epoch 19/500, Train Loss: 257.2351, Val Loss: 280.3500, Val MAPE: 49.42%\n",
      "Epoch 20/500, Train Loss: 241.6223, Val Loss: 380.8722, Val MAPE: 45.80%\n",
      "Epoch 21/500, Train Loss: 236.0488, Val Loss: 289.7041, Val MAPE: 54.84%\n",
      "Epoch 22/500, Train Loss: 220.4629, Val Loss: 293.8312, Val MAPE: 44.98%\n",
      "Model saved as validation loss improved.\n",
      "Epoch 23/500, Train Loss: 208.0461, Val Loss: 273.2433, Val MAPE: 44.86%\n",
      "Epoch 24/500, Train Loss: 223.7047, Val Loss: 292.8010, Val MAPE: 57.86%\n",
      "Model saved as validation loss improved.\n",
      "Epoch 25/500, Train Loss: 267.0917, Val Loss: 272.0839, Val MAPE: 51.18%\n",
      "Epoch 26/500, Train Loss: 223.6137, Val Loss: 302.4114, Val MAPE: 52.33%\n",
      "Epoch 27/500, Train Loss: 194.7337, Val Loss: 273.6731, Val MAPE: 45.12%\n",
      "Epoch 28/500, Train Loss: 181.7267, Val Loss: 283.0605, Val MAPE: 49.02%\n",
      "Epoch 29/500, Train Loss: 188.4281, Val Loss: 278.1612, Val MAPE: 42.99%\n",
      "Model saved as validation loss improved.\n",
      "Epoch 30/500, Train Loss: 195.4345, Val Loss: 266.1333, Val MAPE: 45.53%\n",
      "Epoch 31/500, Train Loss: 177.0914, Val Loss: 290.0374, Val MAPE: 49.53%\n",
      "Epoch 32/500, Train Loss: 182.6653, Val Loss: 273.4062, Val MAPE: 44.06%\n",
      "Epoch 33/500, Train Loss: 179.2941, Val Loss: 267.6156, Val MAPE: 44.09%\n",
      "Epoch 34/500, Train Loss: 164.0771, Val Loss: 289.7623, Val MAPE: 55.49%\n",
      "Epoch 35/500, Train Loss: 173.5841, Val Loss: 267.6316, Val MAPE: 43.99%\n",
      "Epoch 36/500, Train Loss: 158.9532, Val Loss: 299.6453, Val MAPE: 46.09%\n",
      "Epoch 37/500, Train Loss: 187.1896, Val Loss: 300.5676, Val MAPE: 48.90%\n",
      "Epoch 38/500, Train Loss: 203.0584, Val Loss: 307.0299, Val MAPE: 49.70%\n",
      "Epoch 39/500, Train Loss: 184.2259, Val Loss: 296.7595, Val MAPE: 54.80%\n",
      "Epoch 40/500, Train Loss: 175.3209, Val Loss: 331.6487, Val MAPE: 40.13%\n",
      "Epoch 41/500, Train Loss: 168.2084, Val Loss: 297.2238, Val MAPE: 48.17%\n",
      "Epoch 42/500, Train Loss: 162.3830, Val Loss: 336.3853, Val MAPE: 39.96%\n",
      "Epoch 43/500, Train Loss: 150.5608, Val Loss: 270.9730, Val MAPE: 46.46%\n",
      "Epoch 44/500, Train Loss: 138.5317, Val Loss: 294.1779, Val MAPE: 41.88%\n",
      "Epoch 45/500, Train Loss: 129.9303, Val Loss: 269.6498, Val MAPE: 40.40%\n",
      "Epoch 46/500, Train Loss: 134.8068, Val Loss: 294.6452, Val MAPE: 48.59%\n",
      "Epoch 47/500, Train Loss: 123.3253, Val Loss: 290.5724, Val MAPE: 40.23%\n",
      "Epoch 48/500, Train Loss: 120.4481, Val Loss: 304.4659, Val MAPE: 56.06%\n",
      "Epoch 49/500, Train Loss: 135.9966, Val Loss: 289.6917, Val MAPE: 50.73%\n",
      "Epoch 50/500, Train Loss: 140.3782, Val Loss: 310.1650, Val MAPE: 50.69%\n",
      "Model saved as validation loss improved.\n",
      "Epoch 51/500, Train Loss: 132.4300, Val Loss: 258.6006, Val MAPE: 40.26%\n",
      "Epoch 52/500, Train Loss: 115.7063, Val Loss: 281.8534, Val MAPE: 49.43%\n",
      "Epoch 53/500, Train Loss: 120.5767, Val Loss: 276.5803, Val MAPE: 47.66%\n",
      "Epoch 54/500, Train Loss: 118.8007, Val Loss: 280.0211, Val MAPE: 47.58%\n",
      "Epoch 55/500, Train Loss: 102.9630, Val Loss: 297.6488, Val MAPE: 45.99%\n",
      "Epoch 56/500, Train Loss: 108.0331, Val Loss: 291.2528, Val MAPE: 39.80%\n",
      "Epoch 57/500, Train Loss: 98.5528, Val Loss: 269.4676, Val MAPE: 42.77%\n",
      "Epoch 58/500, Train Loss: 102.4304, Val Loss: 285.5632, Val MAPE: 46.67%\n",
      "Epoch 59/500, Train Loss: 106.9737, Val Loss: 289.5415, Val MAPE: 50.52%\n",
      "Epoch 60/500, Train Loss: 99.5428, Val Loss: 277.6356, Val MAPE: 42.70%\n",
      "Epoch 61/500, Train Loss: 102.2470, Val Loss: 286.5353, Val MAPE: 47.57%\n",
      "Epoch 62/500, Train Loss: 88.1365, Val Loss: 279.6364, Val MAPE: 45.14%\n",
      "Epoch 63/500, Train Loss: 90.2343, Val Loss: 271.8480, Val MAPE: 48.66%\n",
      "Epoch 64/500, Train Loss: 140.4551, Val Loss: 268.8020, Val MAPE: 46.75%\n",
      "Model saved as validation loss improved.\n",
      "Epoch 65/500, Train Loss: 101.8627, Val Loss: 245.8001, Val MAPE: 40.69%\n",
      "Epoch 66/500, Train Loss: 88.9034, Val Loss: 274.4095, Val MAPE: 45.72%\n",
      "Epoch 67/500, Train Loss: 90.2509, Val Loss: 336.9441, Val MAPE: 63.51%\n",
      "Epoch 68/500, Train Loss: 121.2875, Val Loss: 274.1366, Val MAPE: 41.27%\n",
      "Epoch 69/500, Train Loss: 86.9064, Val Loss: 291.2986, Val MAPE: 39.74%\n",
      "Epoch 70/500, Train Loss: 89.1754, Val Loss: 276.3206, Val MAPE: 44.70%\n",
      "Epoch 71/500, Train Loss: 87.3610, Val Loss: 266.6049, Val MAPE: 45.95%\n",
      "Epoch 72/500, Train Loss: 88.3326, Val Loss: 287.0328, Val MAPE: 38.92%\n",
      "Epoch 73/500, Train Loss: 96.9440, Val Loss: 305.5481, Val MAPE: 41.96%\n",
      "Epoch 74/500, Train Loss: 91.3684, Val Loss: 283.3756, Val MAPE: 45.54%\n",
      "Epoch 75/500, Train Loss: 80.9239, Val Loss: 270.8892, Val MAPE: 50.76%\n",
      "Epoch 76/500, Train Loss: 87.3985, Val Loss: 284.3472, Val MAPE: 41.26%\n",
      "Epoch 77/500, Train Loss: 75.9580, Val Loss: 286.5899, Val MAPE: 41.28%\n",
      "Epoch 78/500, Train Loss: 87.1836, Val Loss: 271.2148, Val MAPE: 46.85%\n",
      "Epoch 79/500, Train Loss: 84.4314, Val Loss: 279.2603, Val MAPE: 42.16%\n",
      "Epoch 80/500, Train Loss: 89.8790, Val Loss: 263.8202, Val MAPE: 41.21%\n",
      "Epoch 81/500, Train Loss: 102.8129, Val Loss: 269.5015, Val MAPE: 40.56%\n",
      "Epoch 82/500, Train Loss: 69.4787, Val Loss: 268.9857, Val MAPE: 41.27%\n",
      "Epoch 83/500, Train Loss: 70.8732, Val Loss: 344.1747, Val MAPE: 62.50%\n",
      "Epoch 84/500, Train Loss: 67.7143, Val Loss: 267.8798, Val MAPE: 41.32%\n",
      "Epoch 85/500, Train Loss: 66.1615, Val Loss: 288.8318, Val MAPE: 45.08%\n",
      "Epoch 86/500, Train Loss: 74.0807, Val Loss: 311.7082, Val MAPE: 54.13%\n",
      "Epoch 87/500, Train Loss: 113.4601, Val Loss: 285.8690, Val MAPE: 47.19%\n",
      "Epoch 88/500, Train Loss: 62.9135, Val Loss: 273.5836, Val MAPE: 41.47%\n",
      "Epoch 89/500, Train Loss: 53.4191, Val Loss: 278.4890, Val MAPE: 44.46%\n",
      "Epoch 90/500, Train Loss: 51.3294, Val Loss: 260.9572, Val MAPE: 45.57%\n",
      "Epoch 91/500, Train Loss: 52.9562, Val Loss: 261.0877, Val MAPE: 43.39%\n",
      "Epoch 92/500, Train Loss: 52.1715, Val Loss: 260.9379, Val MAPE: 42.44%\n",
      "Epoch 93/500, Train Loss: 51.2411, Val Loss: 271.1343, Val MAPE: 40.76%\n",
      "Epoch 94/500, Train Loss: 77.9611, Val Loss: 343.0907, Val MAPE: 40.56%\n"
     ]
    },
    {
     "ename": "KeyboardInterrupt",
     "evalue": "",
     "output_type": "error",
     "traceback": [
      "\u001b[0;31m---------------------------------------------------------------------------\u001b[0m",
      "\u001b[0;31mKeyboardInterrupt\u001b[0m                         Traceback (most recent call last)",
      "Cell \u001b[0;32mIn [8], line 7\u001b[0m\n\u001b[1;32m      3\u001b[0m optimizer \u001b[38;5;241m=\u001b[39m optim\u001b[38;5;241m.\u001b[39mAdam(resnet_model\u001b[38;5;241m.\u001b[39mparameters(), lr\u001b[38;5;241m=\u001b[39m\u001b[38;5;241m0.0001\u001b[39m)\n\u001b[1;32m      4\u001b[0m step_lr_scheduler \u001b[38;5;241m=\u001b[39m lr_scheduler\u001b[38;5;241m.\u001b[39mStepLR(optimizer, step_size\u001b[38;5;241m=\u001b[39m\u001b[38;5;241m10\u001b[39m, gamma\u001b[38;5;241m=\u001b[39m\u001b[38;5;241m0.1\u001b[39m)\n\u001b[0;32m----> 7\u001b[0m train_losses, val_losses, val_mapes \u001b[38;5;241m=\u001b[39m \u001b[43mtrain_and_validate\u001b[49m\u001b[43m(\u001b[49m\n\u001b[1;32m      8\u001b[0m \u001b[43m    \u001b[49m\u001b[43mmodel\u001b[49m\u001b[38;5;241;43m=\u001b[39;49m\u001b[43mresnet_model\u001b[49m\u001b[43m,\u001b[49m\u001b[43m \u001b[49m\u001b[38;5;66;43;03m# change name if loading from a checkpoint\u001b[39;49;00m\n\u001b[1;32m      9\u001b[0m \u001b[43m    \u001b[49m\u001b[43moptimizer\u001b[49m\u001b[38;5;241;43m=\u001b[39;49m\u001b[43moptimizer\u001b[49m\u001b[43m,\u001b[49m\n\u001b[1;32m     10\u001b[0m \u001b[43m    \u001b[49m\u001b[43mscheduler\u001b[49m\u001b[38;5;241;43m=\u001b[39;49m\u001b[43mstep_lr_scheduler\u001b[49m\u001b[43m,\u001b[49m\u001b[43m \u001b[49m\n\u001b[1;32m     11\u001b[0m \u001b[43m    \u001b[49m\u001b[43mtrain_loader\u001b[49m\u001b[38;5;241;43m=\u001b[39;49m\u001b[43mtrain_loader\u001b[49m\u001b[43m,\u001b[49m\n\u001b[1;32m     12\u001b[0m \u001b[43m    \u001b[49m\u001b[43mvalid_loader\u001b[49m\u001b[38;5;241;43m=\u001b[39;49m\u001b[43mvalid_loader\u001b[49m\u001b[43m,\u001b[49m\n\u001b[1;32m     13\u001b[0m \u001b[43m    \u001b[49m\u001b[43mcriterion\u001b[49m\u001b[38;5;241;43m=\u001b[39;49m\u001b[43mcriterion\u001b[49m\u001b[43m,\u001b[49m\n\u001b[1;32m     14\u001b[0m \u001b[43m    \u001b[49m\u001b[43mepochs\u001b[49m\u001b[38;5;241;43m=\u001b[39;49m\u001b[43mepochs\u001b[49m\u001b[43m,\u001b[49m\n\u001b[1;32m     15\u001b[0m \u001b[43m    \u001b[49m\u001b[43mdevice\u001b[49m\u001b[38;5;241;43m=\u001b[39;49m\u001b[43mdevice\u001b[49m\n\u001b[1;32m     16\u001b[0m \u001b[43m)\u001b[49m\n",
      "Cell \u001b[0;32mIn [7], line 21\u001b[0m, in \u001b[0;36mtrain_and_validate\u001b[0;34m(model, train_loader, valid_loader, criterion, optimizer, scheduler, epochs, device)\u001b[0m\n\u001b[1;32m     19\u001b[0m     loss \u001b[38;5;241m=\u001b[39m criterion(outputs\u001b[38;5;241m.\u001b[39msqueeze(), targets\u001b[38;5;241m.\u001b[39mfloat())\n\u001b[1;32m     20\u001b[0m     loss\u001b[38;5;241m.\u001b[39mbackward()\n\u001b[0;32m---> 21\u001b[0m     \u001b[43moptimizer\u001b[49m\u001b[38;5;241;43m.\u001b[39;49m\u001b[43mstep\u001b[49m\u001b[43m(\u001b[49m\u001b[43m)\u001b[49m\n\u001b[1;32m     22\u001b[0m     total_train_loss \u001b[38;5;241m+\u001b[39m\u001b[38;5;241m=\u001b[39m loss\u001b[38;5;241m.\u001b[39mitem()\n\u001b[1;32m     24\u001b[0m train_loss \u001b[38;5;241m=\u001b[39m total_train_loss \u001b[38;5;241m/\u001b[39m \u001b[38;5;28mlen\u001b[39m(train_loader)\n",
      "File \u001b[0;32m/usr/local/lib/python3.9/dist-packages/torch/optim/lr_scheduler.py:65\u001b[0m, in \u001b[0;36m_LRScheduler.__init__.<locals>.with_counter.<locals>.wrapper\u001b[0;34m(*args, **kwargs)\u001b[0m\n\u001b[1;32m     63\u001b[0m instance\u001b[38;5;241m.\u001b[39m_step_count \u001b[38;5;241m+\u001b[39m\u001b[38;5;241m=\u001b[39m \u001b[38;5;241m1\u001b[39m\n\u001b[1;32m     64\u001b[0m wrapped \u001b[38;5;241m=\u001b[39m func\u001b[38;5;241m.\u001b[39m\u001b[38;5;21m__get__\u001b[39m(instance, \u001b[38;5;28mcls\u001b[39m)\n\u001b[0;32m---> 65\u001b[0m \u001b[38;5;28;01mreturn\u001b[39;00m \u001b[43mwrapped\u001b[49m\u001b[43m(\u001b[49m\u001b[38;5;241;43m*\u001b[39;49m\u001b[43margs\u001b[49m\u001b[43m,\u001b[49m\u001b[43m \u001b[49m\u001b[38;5;241;43m*\u001b[39;49m\u001b[38;5;241;43m*\u001b[39;49m\u001b[43mkwargs\u001b[49m\u001b[43m)\u001b[49m\n",
      "File \u001b[0;32m/usr/local/lib/python3.9/dist-packages/torch/optim/optimizer.py:113\u001b[0m, in \u001b[0;36mOptimizer._hook_for_profile.<locals>.profile_hook_step.<locals>.wrapper\u001b[0;34m(*args, **kwargs)\u001b[0m\n\u001b[1;32m    111\u001b[0m profile_name \u001b[38;5;241m=\u001b[39m \u001b[38;5;124m\"\u001b[39m\u001b[38;5;124mOptimizer.step#\u001b[39m\u001b[38;5;132;01m{}\u001b[39;00m\u001b[38;5;124m.step\u001b[39m\u001b[38;5;124m\"\u001b[39m\u001b[38;5;241m.\u001b[39mformat(obj\u001b[38;5;241m.\u001b[39m\u001b[38;5;18m__class__\u001b[39m\u001b[38;5;241m.\u001b[39m\u001b[38;5;18m__name__\u001b[39m)\n\u001b[1;32m    112\u001b[0m \u001b[38;5;28;01mwith\u001b[39;00m torch\u001b[38;5;241m.\u001b[39mautograd\u001b[38;5;241m.\u001b[39mprofiler\u001b[38;5;241m.\u001b[39mrecord_function(profile_name):\n\u001b[0;32m--> 113\u001b[0m     \u001b[38;5;28;01mreturn\u001b[39;00m \u001b[43mfunc\u001b[49m\u001b[43m(\u001b[49m\u001b[38;5;241;43m*\u001b[39;49m\u001b[43margs\u001b[49m\u001b[43m,\u001b[49m\u001b[43m \u001b[49m\u001b[38;5;241;43m*\u001b[39;49m\u001b[38;5;241;43m*\u001b[39;49m\u001b[43mkwargs\u001b[49m\u001b[43m)\u001b[49m\n",
      "File \u001b[0;32m/usr/local/lib/python3.9/dist-packages/torch/autograd/grad_mode.py:27\u001b[0m, in \u001b[0;36m_DecoratorContextManager.__call__.<locals>.decorate_context\u001b[0;34m(*args, **kwargs)\u001b[0m\n\u001b[1;32m     24\u001b[0m \u001b[38;5;129m@functools\u001b[39m\u001b[38;5;241m.\u001b[39mwraps(func)\n\u001b[1;32m     25\u001b[0m \u001b[38;5;28;01mdef\u001b[39;00m \u001b[38;5;21mdecorate_context\u001b[39m(\u001b[38;5;241m*\u001b[39margs, \u001b[38;5;241m*\u001b[39m\u001b[38;5;241m*\u001b[39mkwargs):\n\u001b[1;32m     26\u001b[0m     \u001b[38;5;28;01mwith\u001b[39;00m \u001b[38;5;28mself\u001b[39m\u001b[38;5;241m.\u001b[39mclone():\n\u001b[0;32m---> 27\u001b[0m         \u001b[38;5;28;01mreturn\u001b[39;00m \u001b[43mfunc\u001b[49m\u001b[43m(\u001b[49m\u001b[38;5;241;43m*\u001b[39;49m\u001b[43margs\u001b[49m\u001b[43m,\u001b[49m\u001b[43m \u001b[49m\u001b[38;5;241;43m*\u001b[39;49m\u001b[38;5;241;43m*\u001b[39;49m\u001b[43mkwargs\u001b[49m\u001b[43m)\u001b[49m\n",
      "File \u001b[0;32m/usr/local/lib/python3.9/dist-packages/torch/optim/adam.py:157\u001b[0m, in \u001b[0;36mAdam.step\u001b[0;34m(self, closure)\u001b[0m\n\u001b[1;32m    153\u001b[0m                 max_exp_avg_sqs\u001b[38;5;241m.\u001b[39mappend(state[\u001b[38;5;124m'\u001b[39m\u001b[38;5;124mmax_exp_avg_sq\u001b[39m\u001b[38;5;124m'\u001b[39m])\n\u001b[1;32m    155\u001b[0m             state_steps\u001b[38;5;241m.\u001b[39mappend(state[\u001b[38;5;124m'\u001b[39m\u001b[38;5;124mstep\u001b[39m\u001b[38;5;124m'\u001b[39m])\n\u001b[0;32m--> 157\u001b[0m     \u001b[43madam\u001b[49m\u001b[43m(\u001b[49m\u001b[43mparams_with_grad\u001b[49m\u001b[43m,\u001b[49m\n\u001b[1;32m    158\u001b[0m \u001b[43m         \u001b[49m\u001b[43mgrads\u001b[49m\u001b[43m,\u001b[49m\n\u001b[1;32m    159\u001b[0m \u001b[43m         \u001b[49m\u001b[43mexp_avgs\u001b[49m\u001b[43m,\u001b[49m\n\u001b[1;32m    160\u001b[0m \u001b[43m         \u001b[49m\u001b[43mexp_avg_sqs\u001b[49m\u001b[43m,\u001b[49m\n\u001b[1;32m    161\u001b[0m \u001b[43m         \u001b[49m\u001b[43mmax_exp_avg_sqs\u001b[49m\u001b[43m,\u001b[49m\n\u001b[1;32m    162\u001b[0m \u001b[43m         \u001b[49m\u001b[43mstate_steps\u001b[49m\u001b[43m,\u001b[49m\n\u001b[1;32m    163\u001b[0m \u001b[43m         \u001b[49m\u001b[43mamsgrad\u001b[49m\u001b[38;5;241;43m=\u001b[39;49m\u001b[43mgroup\u001b[49m\u001b[43m[\u001b[49m\u001b[38;5;124;43m'\u001b[39;49m\u001b[38;5;124;43mamsgrad\u001b[39;49m\u001b[38;5;124;43m'\u001b[39;49m\u001b[43m]\u001b[49m\u001b[43m,\u001b[49m\n\u001b[1;32m    164\u001b[0m \u001b[43m         \u001b[49m\u001b[43mbeta1\u001b[49m\u001b[38;5;241;43m=\u001b[39;49m\u001b[43mbeta1\u001b[49m\u001b[43m,\u001b[49m\n\u001b[1;32m    165\u001b[0m \u001b[43m         \u001b[49m\u001b[43mbeta2\u001b[49m\u001b[38;5;241;43m=\u001b[39;49m\u001b[43mbeta2\u001b[49m\u001b[43m,\u001b[49m\n\u001b[1;32m    166\u001b[0m \u001b[43m         \u001b[49m\u001b[43mlr\u001b[49m\u001b[38;5;241;43m=\u001b[39;49m\u001b[43mgroup\u001b[49m\u001b[43m[\u001b[49m\u001b[38;5;124;43m'\u001b[39;49m\u001b[38;5;124;43mlr\u001b[39;49m\u001b[38;5;124;43m'\u001b[39;49m\u001b[43m]\u001b[49m\u001b[43m,\u001b[49m\n\u001b[1;32m    167\u001b[0m \u001b[43m         \u001b[49m\u001b[43mweight_decay\u001b[49m\u001b[38;5;241;43m=\u001b[39;49m\u001b[43mgroup\u001b[49m\u001b[43m[\u001b[49m\u001b[38;5;124;43m'\u001b[39;49m\u001b[38;5;124;43mweight_decay\u001b[39;49m\u001b[38;5;124;43m'\u001b[39;49m\u001b[43m]\u001b[49m\u001b[43m,\u001b[49m\n\u001b[1;32m    168\u001b[0m \u001b[43m         \u001b[49m\u001b[43meps\u001b[49m\u001b[38;5;241;43m=\u001b[39;49m\u001b[43mgroup\u001b[49m\u001b[43m[\u001b[49m\u001b[38;5;124;43m'\u001b[39;49m\u001b[38;5;124;43meps\u001b[39;49m\u001b[38;5;124;43m'\u001b[39;49m\u001b[43m]\u001b[49m\u001b[43m,\u001b[49m\n\u001b[1;32m    169\u001b[0m \u001b[43m         \u001b[49m\u001b[43mmaximize\u001b[49m\u001b[38;5;241;43m=\u001b[39;49m\u001b[43mgroup\u001b[49m\u001b[43m[\u001b[49m\u001b[38;5;124;43m'\u001b[39;49m\u001b[38;5;124;43mmaximize\u001b[39;49m\u001b[38;5;124;43m'\u001b[39;49m\u001b[43m]\u001b[49m\u001b[43m,\u001b[49m\n\u001b[1;32m    170\u001b[0m \u001b[43m         \u001b[49m\u001b[43mforeach\u001b[49m\u001b[38;5;241;43m=\u001b[39;49m\u001b[43mgroup\u001b[49m\u001b[43m[\u001b[49m\u001b[38;5;124;43m'\u001b[39;49m\u001b[38;5;124;43mforeach\u001b[39;49m\u001b[38;5;124;43m'\u001b[39;49m\u001b[43m]\u001b[49m\u001b[43m,\u001b[49m\n\u001b[1;32m    171\u001b[0m \u001b[43m         \u001b[49m\u001b[43mcapturable\u001b[49m\u001b[38;5;241;43m=\u001b[39;49m\u001b[43mgroup\u001b[49m\u001b[43m[\u001b[49m\u001b[38;5;124;43m'\u001b[39;49m\u001b[38;5;124;43mcapturable\u001b[39;49m\u001b[38;5;124;43m'\u001b[39;49m\u001b[43m]\u001b[49m\u001b[43m)\u001b[49m\n\u001b[1;32m    173\u001b[0m \u001b[38;5;28;01mreturn\u001b[39;00m loss\n",
      "File \u001b[0;32m/usr/local/lib/python3.9/dist-packages/torch/optim/adam.py:213\u001b[0m, in \u001b[0;36madam\u001b[0;34m(params, grads, exp_avgs, exp_avg_sqs, max_exp_avg_sqs, state_steps, foreach, capturable, amsgrad, beta1, beta2, lr, weight_decay, eps, maximize)\u001b[0m\n\u001b[1;32m    210\u001b[0m \u001b[38;5;28;01melse\u001b[39;00m:\n\u001b[1;32m    211\u001b[0m     func \u001b[38;5;241m=\u001b[39m _single_tensor_adam\n\u001b[0;32m--> 213\u001b[0m \u001b[43mfunc\u001b[49m\u001b[43m(\u001b[49m\u001b[43mparams\u001b[49m\u001b[43m,\u001b[49m\n\u001b[1;32m    214\u001b[0m \u001b[43m     \u001b[49m\u001b[43mgrads\u001b[49m\u001b[43m,\u001b[49m\n\u001b[1;32m    215\u001b[0m \u001b[43m     \u001b[49m\u001b[43mexp_avgs\u001b[49m\u001b[43m,\u001b[49m\n\u001b[1;32m    216\u001b[0m \u001b[43m     \u001b[49m\u001b[43mexp_avg_sqs\u001b[49m\u001b[43m,\u001b[49m\n\u001b[1;32m    217\u001b[0m \u001b[43m     \u001b[49m\u001b[43mmax_exp_avg_sqs\u001b[49m\u001b[43m,\u001b[49m\n\u001b[1;32m    218\u001b[0m \u001b[43m     \u001b[49m\u001b[43mstate_steps\u001b[49m\u001b[43m,\u001b[49m\n\u001b[1;32m    219\u001b[0m \u001b[43m     \u001b[49m\u001b[43mamsgrad\u001b[49m\u001b[38;5;241;43m=\u001b[39;49m\u001b[43mamsgrad\u001b[49m\u001b[43m,\u001b[49m\n\u001b[1;32m    220\u001b[0m \u001b[43m     \u001b[49m\u001b[43mbeta1\u001b[49m\u001b[38;5;241;43m=\u001b[39;49m\u001b[43mbeta1\u001b[49m\u001b[43m,\u001b[49m\n\u001b[1;32m    221\u001b[0m \u001b[43m     \u001b[49m\u001b[43mbeta2\u001b[49m\u001b[38;5;241;43m=\u001b[39;49m\u001b[43mbeta2\u001b[49m\u001b[43m,\u001b[49m\n\u001b[1;32m    222\u001b[0m \u001b[43m     \u001b[49m\u001b[43mlr\u001b[49m\u001b[38;5;241;43m=\u001b[39;49m\u001b[43mlr\u001b[49m\u001b[43m,\u001b[49m\n\u001b[1;32m    223\u001b[0m \u001b[43m     \u001b[49m\u001b[43mweight_decay\u001b[49m\u001b[38;5;241;43m=\u001b[39;49m\u001b[43mweight_decay\u001b[49m\u001b[43m,\u001b[49m\n\u001b[1;32m    224\u001b[0m \u001b[43m     \u001b[49m\u001b[43meps\u001b[49m\u001b[38;5;241;43m=\u001b[39;49m\u001b[43meps\u001b[49m\u001b[43m,\u001b[49m\n\u001b[1;32m    225\u001b[0m \u001b[43m     \u001b[49m\u001b[43mmaximize\u001b[49m\u001b[38;5;241;43m=\u001b[39;49m\u001b[43mmaximize\u001b[49m\u001b[43m,\u001b[49m\n\u001b[1;32m    226\u001b[0m \u001b[43m     \u001b[49m\u001b[43mcapturable\u001b[49m\u001b[38;5;241;43m=\u001b[39;49m\u001b[43mcapturable\u001b[49m\u001b[43m)\u001b[49m\n",
      "File \u001b[0;32m/usr/local/lib/python3.9/dist-packages/torch/optim/adam.py:305\u001b[0m, in \u001b[0;36m_single_tensor_adam\u001b[0;34m(params, grads, exp_avgs, exp_avg_sqs, max_exp_avg_sqs, state_steps, amsgrad, beta1, beta2, lr, weight_decay, eps, maximize, capturable)\u001b[0m\n\u001b[1;32m    303\u001b[0m     denom \u001b[38;5;241m=\u001b[39m (max_exp_avg_sqs[i]\u001b[38;5;241m.\u001b[39msqrt() \u001b[38;5;241m/\u001b[39m bias_correction2_sqrt)\u001b[38;5;241m.\u001b[39madd_(eps)\n\u001b[1;32m    304\u001b[0m \u001b[38;5;28;01melse\u001b[39;00m:\n\u001b[0;32m--> 305\u001b[0m     denom \u001b[38;5;241m=\u001b[39m (\u001b[43mexp_avg_sq\u001b[49m\u001b[38;5;241;43m.\u001b[39;49m\u001b[43msqrt\u001b[49m\u001b[43m(\u001b[49m\u001b[43m)\u001b[49m \u001b[38;5;241m/\u001b[39m bias_correction2_sqrt)\u001b[38;5;241m.\u001b[39madd_(eps)\n\u001b[1;32m    307\u001b[0m param\u001b[38;5;241m.\u001b[39maddcdiv_(exp_avg, denom, value\u001b[38;5;241m=\u001b[39m\u001b[38;5;241m-\u001b[39mstep_size)\n",
      "\u001b[0;31mKeyboardInterrupt\u001b[0m: "
     ]
    }
   ],
   "source": [
    "epochs = 500\n",
    "criterion = nn.MSELoss()\n",
    "optimizer = optim.Adam(resnet_model.parameters(), lr=0.0001)\n",
    "step_lr_scheduler = lr_scheduler.StepLR(optimizer, step_size=10, gamma=0.1)\n",
    "\n",
    "\n",
    "train_losses, val_losses, val_mapes = train_and_validate(\n",
    "    model=resnet_model, # change name if loading from a checkpoint\n",
    "    optimizer=optimizer,\n",
    "    scheduler=step_lr_scheduler, \n",
    "    train_loader=train_loader,\n",
    "    valid_loader=valid_loader,\n",
    "    criterion=criterion,\n",
    "    epochs=epochs,\n",
    "    device=device\n",
    ")"
   ]
  },
  {
   "cell_type": "markdown",
   "metadata": {
    "execution": {
     "iopub.execute_input": "2024-02-22T21:56:44.353458Z",
     "iopub.status.busy": "2024-02-22T21:56:44.352925Z",
     "iopub.status.idle": "2024-02-22T21:56:44.360014Z",
     "shell.execute_reply": "2024-02-22T21:56:44.358229Z",
     "shell.execute_reply.started": "2024-02-22T21:56:44.353417Z"
    }
   },
   "source": [
    "## Create Test Dataset for Inference"
   ]
  },
  {
   "cell_type": "code",
   "execution_count": 52,
   "metadata": {
    "execution": {
     "iopub.execute_input": "2024-02-24T05:29:12.374314Z",
     "iopub.status.busy": "2024-02-24T05:29:12.373371Z",
     "iopub.status.idle": "2024-02-24T05:29:12.384197Z",
     "shell.execute_reply": "2024-02-24T05:29:12.383427Z",
     "shell.execute_reply.started": "2024-02-24T05:29:12.374270Z"
    }
   },
   "outputs": [],
   "source": [
    "ImageFile.LOAD_TRUNCATED_IMAGES = True\n",
    "\n",
    "class PCITestDataset(Dataset):\n",
    "    def __init__(self, img_dir, transform=None):\n",
    "        self.img_dir = img_dir\n",
    "        self.transform = transform\n",
    "        self.img_names = [img for img in os.listdir(img_dir) if \n",
    "                          img.endswith(('jpg', 'png', 'jpeg'))]\n",
    "\n",
    "    def __len__(self):\n",
    "        return len(self.img_names)\n",
    "\n",
    "    def __getitem__(self, idx):\n",
    "        img_name = self.img_names[idx]\n",
    "        img_path = os.path.join(self.img_dir, img_name)\n",
    "        try:\n",
    "            image = Image.open(img_path).convert('RGB')\n",
    "        except IOError as e:\n",
    "            print(f\"Error loading image {img_path}: {e}. Skipping.\")\n",
    "            return None, None\n",
    "\n",
    "        if self.transform:\n",
    "            image = self.transform(image)\n",
    "\n",
    "        return image, img_name  "
   ]
  },
  {
   "cell_type": "markdown",
   "metadata": {},
   "source": [
    "## Define Test Data Transforms"
   ]
  },
  {
   "cell_type": "code",
   "execution_count": 53,
   "metadata": {
    "execution": {
     "iopub.execute_input": "2024-02-24T05:29:15.773005Z",
     "iopub.status.busy": "2024-02-24T05:29:15.772184Z",
     "iopub.status.idle": "2024-02-24T05:29:15.790157Z",
     "shell.execute_reply": "2024-02-24T05:29:15.789280Z",
     "shell.execute_reply.started": "2024-02-24T05:29:15.772964Z"
    },
    "id": "KoeR1g1IZd1T"
   },
   "outputs": [],
   "source": [
    "# Defining the transform for the test set\n",
    "test_transform = transforms.Compose([\n",
    "    transforms.Resize((224, 224)),\n",
    "    transforms.ToTensor(),\n",
    "    transforms.Normalize(mean=[0.485, 0.456, 0.406], \n",
    "                         std=[0.229, 0.224, 0.225])\n",
    "])\n",
    "\n",
    "\n",
    "# Test time data augmentation\n",
    "test_augment_transform = transforms.Compose([\n",
    "    transforms.Resize((224, 224)),\n",
    "    transforms.ToTensor(),\n",
    "    transforms.RandomHorizontalFlip(p=0.4),\n",
    "    transforms.RandomVerticalFlip(p=0.4),\n",
    "    transforms.RandomRotation(degrees=45),\n",
    "    transforms.RandomGrayscale(p=0.2),\n",
    "    transforms.Normalize(mean=[0.485, 0.456, 0.406], \n",
    "                         std=[0.229, 0.224, 0.225]),\n",
    "])\n",
    "\n",
    "\n",
    "# Create the test dataset\n",
    "test_dataset = PCITestDataset(img_dir='new_data/test', transform=test_transform)\n",
    "\n",
    "# Create the DataLoader for the test set\n",
    "test_loader = DataLoader(dataset=test_dataset, batch_size=64, shuffle=False)"
   ]
  },
  {
   "cell_type": "markdown",
   "metadata": {
    "id": "UEjCWDzEnjnA"
   },
   "source": [
    "## Predicting PCI using Test Dataset"
   ]
  },
  {
   "cell_type": "code",
   "execution_count": 6,
   "metadata": {
    "execution": {
     "iopub.execute_input": "2024-02-24T15:48:32.816184Z",
     "iopub.status.busy": "2024-02-24T15:48:32.814961Z",
     "iopub.status.idle": "2024-02-24T15:48:32.826669Z",
     "shell.execute_reply": "2024-02-24T15:48:32.825594Z",
     "shell.execute_reply.started": "2024-02-24T15:48:32.816137Z"
    },
    "id": "whJYCFMnbPg5"
   },
   "outputs": [],
   "source": [
    "def return_model_results(model, test_loader, device):\n",
    "    '''\n",
    "    model: - model checkpoint for inference\n",
    "    test_laoder - dataloader for test data\n",
    "    '''\n",
    "    model.eval()\n",
    "    predictions = []\n",
    "\n",
    "    with torch.no_grad():\n",
    "        for data, file_names in tqdm(test_loader):\n",
    "            data = data.to(device)\n",
    "            outputs = model(data).squeeze()\n",
    "\n",
    "            outputs = outputs.cpu().numpy()\n",
    "\n",
    "            outputs = np.round(outputs)  \n",
    "            outputs = np.clip(outputs, 0, 100) \n",
    "\n",
    "            for file_name, output in zip(file_names, outputs):\n",
    "                predictions.append({'image_name': file_name, 'PCI': output})\n",
    "\n",
    "    return pd.DataFrame(predictions)"
   ]
  },
  {
   "cell_type": "code",
   "execution_count": 55,
   "metadata": {
    "colab": {
     "base_uri": "https://localhost:8080/",
     "height": 455,
     "referenced_widgets": [
      "0941c79338124b38b3012f2074d8f003",
      "12b9243ed60c4d6da197af0dfce765d9",
      "b2b189e89a1c402d8b80f75a2583bf0c",
      "163b75f68d3642d7b4e3b9cbfaf2dbbe",
      "a3c7326c831e40a9b7cf45ed710597a6",
      "e65133d02be94e33af65b11c80ace4fd",
      "0144c6d09d2a45889e67b357691bbaed",
      "7b430eb0ae30420b8eff356fd08ad62f",
      "6e599b0827b44dff90705e1bd4d02115",
      "0f55fdba0670435086a08c3868394481",
      "8048f0f54a1543f3af8fb869a15fc096"
     ]
    },
    "execution": {
     "iopub.execute_input": "2024-02-24T05:29:22.252602Z",
     "iopub.status.busy": "2024-02-24T05:29:22.251939Z",
     "iopub.status.idle": "2024-02-24T05:33:00.166016Z",
     "shell.execute_reply": "2024-02-24T05:33:00.165126Z",
     "shell.execute_reply.started": "2024-02-24T05:29:22.252572Z"
    },
    "id": "EnaVhMGEbPu7",
    "outputId": "dbcf90ea-b409-43da-951c-ba04e6e335af"
   },
   "outputs": [
    {
     "data": {
      "application/vnd.jupyter.widget-view+json": {
       "model_id": "e7b2523cc8974ea5ad043a8b9cc8cc69",
       "version_major": 2,
       "version_minor": 0
      },
      "text/plain": [
       "  0%|          | 0/52 [00:00<?, ?it/s]"
      ]
     },
     "metadata": {},
     "output_type": "display_data"
    },
    {
     "data": {
      "text/html": [
       "<div>\n",
       "<style scoped>\n",
       "    .dataframe tbody tr th:only-of-type {\n",
       "        vertical-align: middle;\n",
       "    }\n",
       "\n",
       "    .dataframe tbody tr th {\n",
       "        vertical-align: top;\n",
       "    }\n",
       "\n",
       "    .dataframe thead th {\n",
       "        text-align: right;\n",
       "    }\n",
       "</style>\n",
       "<table border=\"1\" class=\"dataframe\">\n",
       "  <thead>\n",
       "    <tr style=\"text-align: right;\">\n",
       "      <th></th>\n",
       "      <th>image_name</th>\n",
       "      <th>PCI</th>\n",
       "    </tr>\n",
       "  </thead>\n",
       "  <tbody>\n",
       "    <tr>\n",
       "      <th>0</th>\n",
       "      <td>29346_(40.706639, -89.4118548333333)_ 2023-10-...</td>\n",
       "      <td>100.0</td>\n",
       "    </tr>\n",
       "    <tr>\n",
       "      <th>1</th>\n",
       "      <td>30469_[40.71754494378192, -89.40737241483934]_...</td>\n",
       "      <td>52.0</td>\n",
       "    </tr>\n",
       "    <tr>\n",
       "      <th>2</th>\n",
       "      <td>5391_[40.703573729608635, -89.39307207576425]_...</td>\n",
       "      <td>100.0</td>\n",
       "    </tr>\n",
       "    <tr>\n",
       "      <th>3</th>\n",
       "      <td>8177_[40.70344959878703, -89.40285044078563]_ ...</td>\n",
       "      <td>38.0</td>\n",
       "    </tr>\n",
       "    <tr>\n",
       "      <th>4</th>\n",
       "      <td>50640_[40.71631585548975, -89.44329904297382]_...</td>\n",
       "      <td>38.0</td>\n",
       "    </tr>\n",
       "  </tbody>\n",
       "</table>\n",
       "</div>"
      ],
      "text/plain": [
       "                                          image_name    PCI\n",
       "0  29346_(40.706639, -89.4118548333333)_ 2023-10-...  100.0\n",
       "1  30469_[40.71754494378192, -89.40737241483934]_...   52.0\n",
       "2  5391_[40.703573729608635, -89.39307207576425]_...  100.0\n",
       "3  8177_[40.70344959878703, -89.40285044078563]_ ...   38.0\n",
       "4  50640_[40.71631585548975, -89.44329904297382]_...   38.0"
      ]
     },
     "execution_count": 55,
     "metadata": {},
     "output_type": "execute_result"
    }
   ],
   "source": [
    "results = return_model_results(model, test_loader, device)\n",
    "results.head() "
   ]
  },
  {
   "cell_type": "markdown",
   "metadata": {},
   "source": [
    "## Generate JSON file for submission"
   ]
  },
  {
   "cell_type": "code",
   "execution_count": null,
   "metadata": {},
   "outputs": [],
   "source": [
    "JSON_SUBMISSION_NAME = 'resnet50_v3.json'"
   ]
  },
  {
   "cell_type": "markdown",
   "metadata": {
    "execution": {
     "iopub.execute_input": "2024-02-24T15:41:03.920824Z",
     "iopub.status.busy": "2024-02-24T15:41:03.920336Z",
     "iopub.status.idle": "2024-02-24T15:41:03.938136Z",
     "shell.execute_reply": "2024-02-24T15:41:03.932584Z",
     "shell.execute_reply.started": "2024-02-24T15:41:03.920783Z"
    }
   },
   "source": [
    "`JSON` file for submission will be saved at the current directory"
   ]
  },
  {
   "cell_type": "code",
   "execution_count": 57,
   "metadata": {
    "execution": {
     "iopub.execute_input": "2024-02-24T05:33:41.875976Z",
     "iopub.status.busy": "2024-02-24T05:33:41.875573Z",
     "iopub.status.idle": "2024-02-24T05:33:42.158853Z",
     "shell.execute_reply": "2024-02-24T05:33:42.157782Z",
     "shell.execute_reply.started": "2024-02-24T05:33:41.875947Z"
    },
    "id": "dIDGgseKbY0H"
   },
   "outputs": [],
   "source": [
    "def gen_submit(df):\n",
    "    out_json = []\n",
    "    for idx, results in df.iterrows():\n",
    "        out_json.append({results['image_name']: results['PCI']})\n",
    "    with open(JSON_SUBMISSION_NAME, 'w') as f:\n",
    "        json.dump(out_json, f)\n",
    "\n",
    "gen_submit(results)"
   ]
  }
 ],
 "metadata": {
  "accelerator": "GPU",
  "colab": {
   "gpuType": "T4",
   "machine_shape": "hm",
   "provenance": []
  },
  "kernelspec": {
   "display_name": "Python 3 (ipykernel)",
   "language": "python",
   "name": "python3"
  },
  "language_info": {
   "codemirror_mode": {
    "name": "ipython",
    "version": 3
   },
   "file_extension": ".py",
   "mimetype": "text/x-python",
   "name": "python",
   "nbconvert_exporter": "python",
   "pygments_lexer": "ipython3",
   "version": "3.9.16"
  },
  "widgets": {
   "application/vnd.jupyter.widget-state+json": {
    "0144c6d09d2a45889e67b357691bbaed": {
     "model_module": "@jupyter-widgets/controls",
     "model_module_version": "1.5.0",
     "model_name": "DescriptionStyleModel",
     "state": {
      "_model_module": "@jupyter-widgets/controls",
      "_model_module_version": "1.5.0",
      "_model_name": "DescriptionStyleModel",
      "_view_count": null,
      "_view_module": "@jupyter-widgets/base",
      "_view_module_version": "1.2.0",
      "_view_name": "StyleView",
      "description_width": ""
     }
    },
    "0941c79338124b38b3012f2074d8f003": {
     "model_module": "@jupyter-widgets/controls",
     "model_module_version": "1.5.0",
     "model_name": "HBoxModel",
     "state": {
      "_dom_classes": [],
      "_model_module": "@jupyter-widgets/controls",
      "_model_module_version": "1.5.0",
      "_model_name": "HBoxModel",
      "_view_count": null,
      "_view_module": "@jupyter-widgets/controls",
      "_view_module_version": "1.5.0",
      "_view_name": "HBoxView",
      "box_style": "",
      "children": [
       "IPY_MODEL_12b9243ed60c4d6da197af0dfce765d9",
       "IPY_MODEL_b2b189e89a1c402d8b80f75a2583bf0c",
       "IPY_MODEL_163b75f68d3642d7b4e3b9cbfaf2dbbe"
      ],
      "layout": "IPY_MODEL_a3c7326c831e40a9b7cf45ed710597a6"
     }
    },
    "0bc451c63f4c4e719fcdd99c6d8f99f0": {
     "model_module": "@jupyter-widgets/controls",
     "model_module_version": "1.5.0",
     "model_name": "FloatProgressModel",
     "state": {
      "_dom_classes": [],
      "_model_module": "@jupyter-widgets/controls",
      "_model_module_version": "1.5.0",
      "_model_name": "FloatProgressModel",
      "_view_count": null,
      "_view_module": "@jupyter-widgets/controls",
      "_view_module_version": "1.5.0",
      "_view_name": "ProgressView",
      "bar_style": "",
      "description": "",
      "description_tooltip": null,
      "layout": "IPY_MODEL_bb96dc3f28104cd0b347a289766cc8df",
      "max": 30,
      "min": 0,
      "orientation": "horizontal",
      "style": "IPY_MODEL_ea08319d1a18483ca377ce52f1ef9969",
      "value": 22
     }
    },
    "0f55fdba0670435086a08c3868394481": {
     "model_module": "@jupyter-widgets/base",
     "model_module_version": "1.2.0",
     "model_name": "LayoutModel",
     "state": {
      "_model_module": "@jupyter-widgets/base",
      "_model_module_version": "1.2.0",
      "_model_name": "LayoutModel",
      "_view_count": null,
      "_view_module": "@jupyter-widgets/base",
      "_view_module_version": "1.2.0",
      "_view_name": "LayoutView",
      "align_content": null,
      "align_items": null,
      "align_self": null,
      "border": null,
      "bottom": null,
      "display": null,
      "flex": null,
      "flex_flow": null,
      "grid_area": null,
      "grid_auto_columns": null,
      "grid_auto_flow": null,
      "grid_auto_rows": null,
      "grid_column": null,
      "grid_gap": null,
      "grid_row": null,
      "grid_template_areas": null,
      "grid_template_columns": null,
      "grid_template_rows": null,
      "height": null,
      "justify_content": null,
      "justify_items": null,
      "left": null,
      "margin": null,
      "max_height": null,
      "max_width": null,
      "min_height": null,
      "min_width": null,
      "object_fit": null,
      "object_position": null,
      "order": null,
      "overflow": null,
      "overflow_x": null,
      "overflow_y": null,
      "padding": null,
      "right": null,
      "top": null,
      "visibility": null,
      "width": null
     }
    },
    "0feb60349abc4d77bdf5fdd68bad3789": {
     "model_module": "@jupyter-widgets/controls",
     "model_module_version": "1.5.0",
     "model_name": "HTMLModel",
     "state": {
      "_dom_classes": [],
      "_model_module": "@jupyter-widgets/controls",
      "_model_module_version": "1.5.0",
      "_model_name": "HTMLModel",
      "_view_count": null,
      "_view_module": "@jupyter-widgets/controls",
      "_view_module_version": "1.5.0",
      "_view_name": "HTMLView",
      "description": "",
      "description_tooltip": null,
      "layout": "IPY_MODEL_7be29048a6764b3f9a683d6441dbeaff",
      "placeholder": "​",
      "style": "IPY_MODEL_1f08ffb084ad4d6580482823856ed47e",
      "value": " 1791/1791 [07:24&lt;00:00,  4.57it/s]"
     }
    },
    "12b9243ed60c4d6da197af0dfce765d9": {
     "model_module": "@jupyter-widgets/controls",
     "model_module_version": "1.5.0",
     "model_name": "HTMLModel",
     "state": {
      "_dom_classes": [],
      "_model_module": "@jupyter-widgets/controls",
      "_model_module_version": "1.5.0",
      "_model_name": "HTMLModel",
      "_view_count": null,
      "_view_module": "@jupyter-widgets/controls",
      "_view_module_version": "1.5.0",
      "_view_name": "HTMLView",
      "description": "",
      "description_tooltip": null,
      "layout": "IPY_MODEL_e65133d02be94e33af65b11c80ace4fd",
      "placeholder": "​",
      "style": "IPY_MODEL_0144c6d09d2a45889e67b357691bbaed",
      "value": "100%"
     }
    },
    "163b75f68d3642d7b4e3b9cbfaf2dbbe": {
     "model_module": "@jupyter-widgets/controls",
     "model_module_version": "1.5.0",
     "model_name": "HTMLModel",
     "state": {
      "_dom_classes": [],
      "_model_module": "@jupyter-widgets/controls",
      "_model_module_version": "1.5.0",
      "_model_name": "HTMLModel",
      "_view_count": null,
      "_view_module": "@jupyter-widgets/controls",
      "_view_module_version": "1.5.0",
      "_view_name": "HTMLView",
      "description": "",
      "description_tooltip": null,
      "layout": "IPY_MODEL_0f55fdba0670435086a08c3868394481",
      "placeholder": "​",
      "style": "IPY_MODEL_8048f0f54a1543f3af8fb869a15fc096",
      "value": " 58/58 [10:22&lt;00:00,  8.57s/it]"
     }
    },
    "1c9cc65eeff64100b80fcab5ae6ecb19": {
     "model_module": "@jupyter-widgets/base",
     "model_module_version": "1.2.0",
     "model_name": "LayoutModel",
     "state": {
      "_model_module": "@jupyter-widgets/base",
      "_model_module_version": "1.2.0",
      "_model_name": "LayoutModel",
      "_view_count": null,
      "_view_module": "@jupyter-widgets/base",
      "_view_module_version": "1.2.0",
      "_view_name": "LayoutView",
      "align_content": null,
      "align_items": null,
      "align_self": null,
      "border": null,
      "bottom": null,
      "display": null,
      "flex": null,
      "flex_flow": null,
      "grid_area": null,
      "grid_auto_columns": null,
      "grid_auto_flow": null,
      "grid_auto_rows": null,
      "grid_column": null,
      "grid_gap": null,
      "grid_row": null,
      "grid_template_areas": null,
      "grid_template_columns": null,
      "grid_template_rows": null,
      "height": null,
      "justify_content": null,
      "justify_items": null,
      "left": null,
      "margin": null,
      "max_height": null,
      "max_width": null,
      "min_height": null,
      "min_width": null,
      "object_fit": null,
      "object_position": null,
      "order": null,
      "overflow": null,
      "overflow_x": null,
      "overflow_y": null,
      "padding": null,
      "right": null,
      "top": null,
      "visibility": null,
      "width": null
     }
    },
    "1e650996f0bd490bbe1e035d7514dd8c": {
     "model_module": "@jupyter-widgets/base",
     "model_module_version": "1.2.0",
     "model_name": "LayoutModel",
     "state": {
      "_model_module": "@jupyter-widgets/base",
      "_model_module_version": "1.2.0",
      "_model_name": "LayoutModel",
      "_view_count": null,
      "_view_module": "@jupyter-widgets/base",
      "_view_module_version": "1.2.0",
      "_view_name": "LayoutView",
      "align_content": null,
      "align_items": null,
      "align_self": null,
      "border": null,
      "bottom": null,
      "display": null,
      "flex": null,
      "flex_flow": null,
      "grid_area": null,
      "grid_auto_columns": null,
      "grid_auto_flow": null,
      "grid_auto_rows": null,
      "grid_column": null,
      "grid_gap": null,
      "grid_row": null,
      "grid_template_areas": null,
      "grid_template_columns": null,
      "grid_template_rows": null,
      "height": null,
      "justify_content": null,
      "justify_items": null,
      "left": null,
      "margin": null,
      "max_height": null,
      "max_width": null,
      "min_height": null,
      "min_width": null,
      "object_fit": null,
      "object_position": null,
      "order": null,
      "overflow": null,
      "overflow_x": null,
      "overflow_y": null,
      "padding": null,
      "right": null,
      "top": null,
      "visibility": null,
      "width": null
     }
    },
    "1f08ffb084ad4d6580482823856ed47e": {
     "model_module": "@jupyter-widgets/controls",
     "model_module_version": "1.5.0",
     "model_name": "DescriptionStyleModel",
     "state": {
      "_model_module": "@jupyter-widgets/controls",
      "_model_module_version": "1.5.0",
      "_model_name": "DescriptionStyleModel",
      "_view_count": null,
      "_view_module": "@jupyter-widgets/base",
      "_view_module_version": "1.2.0",
      "_view_name": "StyleView",
      "description_width": ""
     }
    },
    "308f4e92208c489abf20301b0a51fca4": {
     "model_module": "@jupyter-widgets/controls",
     "model_module_version": "1.5.0",
     "model_name": "HTMLModel",
     "state": {
      "_dom_classes": [],
      "_model_module": "@jupyter-widgets/controls",
      "_model_module_version": "1.5.0",
      "_model_name": "HTMLModel",
      "_view_count": null,
      "_view_module": "@jupyter-widgets/controls",
      "_view_module_version": "1.5.0",
      "_view_name": "HTMLView",
      "description": "",
      "description_tooltip": null,
      "layout": "IPY_MODEL_567531ede08a443699c0d4208556f8b9",
      "placeholder": "​",
      "style": "IPY_MODEL_47510c0f60434aad92c81c1fe7eeed03",
      "value": " 73%"
     }
    },
    "4315d65118b04b2eb5ea9834c34dab8b": {
     "model_module": "@jupyter-widgets/controls",
     "model_module_version": "1.5.0",
     "model_name": "ProgressStyleModel",
     "state": {
      "_model_module": "@jupyter-widgets/controls",
      "_model_module_version": "1.5.0",
      "_model_name": "ProgressStyleModel",
      "_view_count": null,
      "_view_module": "@jupyter-widgets/base",
      "_view_module_version": "1.2.0",
      "_view_name": "StyleView",
      "bar_color": null,
      "description_width": ""
     }
    },
    "47510c0f60434aad92c81c1fe7eeed03": {
     "model_module": "@jupyter-widgets/controls",
     "model_module_version": "1.5.0",
     "model_name": "DescriptionStyleModel",
     "state": {
      "_model_module": "@jupyter-widgets/controls",
      "_model_module_version": "1.5.0",
      "_model_name": "DescriptionStyleModel",
      "_view_count": null,
      "_view_module": "@jupyter-widgets/base",
      "_view_module_version": "1.2.0",
      "_view_name": "StyleView",
      "description_width": ""
     }
    },
    "567531ede08a443699c0d4208556f8b9": {
     "model_module": "@jupyter-widgets/base",
     "model_module_version": "1.2.0",
     "model_name": "LayoutModel",
     "state": {
      "_model_module": "@jupyter-widgets/base",
      "_model_module_version": "1.2.0",
      "_model_name": "LayoutModel",
      "_view_count": null,
      "_view_module": "@jupyter-widgets/base",
      "_view_module_version": "1.2.0",
      "_view_name": "LayoutView",
      "align_content": null,
      "align_items": null,
      "align_self": null,
      "border": null,
      "bottom": null,
      "display": null,
      "flex": null,
      "flex_flow": null,
      "grid_area": null,
      "grid_auto_columns": null,
      "grid_auto_flow": null,
      "grid_auto_rows": null,
      "grid_column": null,
      "grid_gap": null,
      "grid_row": null,
      "grid_template_areas": null,
      "grid_template_columns": null,
      "grid_template_rows": null,
      "height": null,
      "justify_content": null,
      "justify_items": null,
      "left": null,
      "margin": null,
      "max_height": null,
      "max_width": null,
      "min_height": null,
      "min_width": null,
      "object_fit": null,
      "object_position": null,
      "order": null,
      "overflow": null,
      "overflow_x": null,
      "overflow_y": null,
      "padding": null,
      "right": null,
      "top": null,
      "visibility": null,
      "width": null
     }
    },
    "58b704ec3d2d41e494529910557c0b7a": {
     "model_module": "@jupyter-widgets/base",
     "model_module_version": "1.2.0",
     "model_name": "LayoutModel",
     "state": {
      "_model_module": "@jupyter-widgets/base",
      "_model_module_version": "1.2.0",
      "_model_name": "LayoutModel",
      "_view_count": null,
      "_view_module": "@jupyter-widgets/base",
      "_view_module_version": "1.2.0",
      "_view_name": "LayoutView",
      "align_content": null,
      "align_items": null,
      "align_self": null,
      "border": null,
      "bottom": null,
      "display": null,
      "flex": null,
      "flex_flow": null,
      "grid_area": null,
      "grid_auto_columns": null,
      "grid_auto_flow": null,
      "grid_auto_rows": null,
      "grid_column": null,
      "grid_gap": null,
      "grid_row": null,
      "grid_template_areas": null,
      "grid_template_columns": null,
      "grid_template_rows": null,
      "height": null,
      "justify_content": null,
      "justify_items": null,
      "left": null,
      "margin": null,
      "max_height": null,
      "max_width": null,
      "min_height": null,
      "min_width": null,
      "object_fit": null,
      "object_position": null,
      "order": null,
      "overflow": null,
      "overflow_x": null,
      "overflow_y": null,
      "padding": null,
      "right": null,
      "top": null,
      "visibility": null,
      "width": null
     }
    },
    "660b1c3ff91e45f5b7accae2e0f70b41": {
     "model_module": "@jupyter-widgets/controls",
     "model_module_version": "1.5.0",
     "model_name": "DescriptionStyleModel",
     "state": {
      "_model_module": "@jupyter-widgets/controls",
      "_model_module_version": "1.5.0",
      "_model_name": "DescriptionStyleModel",
      "_view_count": null,
      "_view_module": "@jupyter-widgets/base",
      "_view_module_version": "1.2.0",
      "_view_name": "StyleView",
      "description_width": ""
     }
    },
    "6e599b0827b44dff90705e1bd4d02115": {
     "model_module": "@jupyter-widgets/controls",
     "model_module_version": "1.5.0",
     "model_name": "ProgressStyleModel",
     "state": {
      "_model_module": "@jupyter-widgets/controls",
      "_model_module_version": "1.5.0",
      "_model_name": "ProgressStyleModel",
      "_view_count": null,
      "_view_module": "@jupyter-widgets/base",
      "_view_module_version": "1.2.0",
      "_view_name": "StyleView",
      "bar_color": null,
      "description_width": ""
     }
    },
    "714fac285a624ead809aa4f6399f2b47": {
     "model_module": "@jupyter-widgets/controls",
     "model_module_version": "1.5.0",
     "model_name": "HBoxModel",
     "state": {
      "_dom_classes": [],
      "_model_module": "@jupyter-widgets/controls",
      "_model_module_version": "1.5.0",
      "_model_name": "HBoxModel",
      "_view_count": null,
      "_view_module": "@jupyter-widgets/controls",
      "_view_module_version": "1.5.0",
      "_view_name": "HBoxView",
      "box_style": "",
      "children": [
       "IPY_MODEL_308f4e92208c489abf20301b0a51fca4",
       "IPY_MODEL_0bc451c63f4c4e719fcdd99c6d8f99f0",
       "IPY_MODEL_775e0d1c55c549d7a9eb46f8ca592f8f"
      ],
      "layout": "IPY_MODEL_58b704ec3d2d41e494529910557c0b7a"
     }
    },
    "775e0d1c55c549d7a9eb46f8ca592f8f": {
     "model_module": "@jupyter-widgets/controls",
     "model_module_version": "1.5.0",
     "model_name": "HTMLModel",
     "state": {
      "_dom_classes": [],
      "_model_module": "@jupyter-widgets/controls",
      "_model_module_version": "1.5.0",
      "_model_name": "HTMLModel",
      "_view_count": null,
      "_view_module": "@jupyter-widgets/controls",
      "_view_module_version": "1.5.0",
      "_view_name": "HTMLView",
      "description": "",
      "description_tooltip": null,
      "layout": "IPY_MODEL_1e650996f0bd490bbe1e035d7514dd8c",
      "placeholder": "​",
      "style": "IPY_MODEL_660b1c3ff91e45f5b7accae2e0f70b41",
      "value": " 22/30 [3:03:04&lt;53:02, 397.76s/it]"
     }
    },
    "7b430eb0ae30420b8eff356fd08ad62f": {
     "model_module": "@jupyter-widgets/base",
     "model_module_version": "1.2.0",
     "model_name": "LayoutModel",
     "state": {
      "_model_module": "@jupyter-widgets/base",
      "_model_module_version": "1.2.0",
      "_model_name": "LayoutModel",
      "_view_count": null,
      "_view_module": "@jupyter-widgets/base",
      "_view_module_version": "1.2.0",
      "_view_name": "LayoutView",
      "align_content": null,
      "align_items": null,
      "align_self": null,
      "border": null,
      "bottom": null,
      "display": null,
      "flex": null,
      "flex_flow": null,
      "grid_area": null,
      "grid_auto_columns": null,
      "grid_auto_flow": null,
      "grid_auto_rows": null,
      "grid_column": null,
      "grid_gap": null,
      "grid_row": null,
      "grid_template_areas": null,
      "grid_template_columns": null,
      "grid_template_rows": null,
      "height": null,
      "justify_content": null,
      "justify_items": null,
      "left": null,
      "margin": null,
      "max_height": null,
      "max_width": null,
      "min_height": null,
      "min_width": null,
      "object_fit": null,
      "object_position": null,
      "order": null,
      "overflow": null,
      "overflow_x": null,
      "overflow_y": null,
      "padding": null,
      "right": null,
      "top": null,
      "visibility": null,
      "width": null
     }
    },
    "7be29048a6764b3f9a683d6441dbeaff": {
     "model_module": "@jupyter-widgets/base",
     "model_module_version": "1.2.0",
     "model_name": "LayoutModel",
     "state": {
      "_model_module": "@jupyter-widgets/base",
      "_model_module_version": "1.2.0",
      "_model_name": "LayoutModel",
      "_view_count": null,
      "_view_module": "@jupyter-widgets/base",
      "_view_module_version": "1.2.0",
      "_view_name": "LayoutView",
      "align_content": null,
      "align_items": null,
      "align_self": null,
      "border": null,
      "bottom": null,
      "display": null,
      "flex": null,
      "flex_flow": null,
      "grid_area": null,
      "grid_auto_columns": null,
      "grid_auto_flow": null,
      "grid_auto_rows": null,
      "grid_column": null,
      "grid_gap": null,
      "grid_row": null,
      "grid_template_areas": null,
      "grid_template_columns": null,
      "grid_template_rows": null,
      "height": null,
      "justify_content": null,
      "justify_items": null,
      "left": null,
      "margin": null,
      "max_height": null,
      "max_width": null,
      "min_height": null,
      "min_width": null,
      "object_fit": null,
      "object_position": null,
      "order": null,
      "overflow": null,
      "overflow_x": null,
      "overflow_y": null,
      "padding": null,
      "right": null,
      "top": null,
      "visibility": null,
      "width": null
     }
    },
    "8048f0f54a1543f3af8fb869a15fc096": {
     "model_module": "@jupyter-widgets/controls",
     "model_module_version": "1.5.0",
     "model_name": "DescriptionStyleModel",
     "state": {
      "_model_module": "@jupyter-widgets/controls",
      "_model_module_version": "1.5.0",
      "_model_name": "DescriptionStyleModel",
      "_view_count": null,
      "_view_module": "@jupyter-widgets/base",
      "_view_module_version": "1.2.0",
      "_view_name": "StyleView",
      "description_width": ""
     }
    },
    "8c82048d549541a7828e5a84b63c7b2f": {
     "model_module": "@jupyter-widgets/base",
     "model_module_version": "1.2.0",
     "model_name": "LayoutModel",
     "state": {
      "_model_module": "@jupyter-widgets/base",
      "_model_module_version": "1.2.0",
      "_model_name": "LayoutModel",
      "_view_count": null,
      "_view_module": "@jupyter-widgets/base",
      "_view_module_version": "1.2.0",
      "_view_name": "LayoutView",
      "align_content": null,
      "align_items": null,
      "align_self": null,
      "border": null,
      "bottom": null,
      "display": null,
      "flex": null,
      "flex_flow": null,
      "grid_area": null,
      "grid_auto_columns": null,
      "grid_auto_flow": null,
      "grid_auto_rows": null,
      "grid_column": null,
      "grid_gap": null,
      "grid_row": null,
      "grid_template_areas": null,
      "grid_template_columns": null,
      "grid_template_rows": null,
      "height": null,
      "justify_content": null,
      "justify_items": null,
      "left": null,
      "margin": null,
      "max_height": null,
      "max_width": null,
      "min_height": null,
      "min_width": null,
      "object_fit": null,
      "object_position": null,
      "order": null,
      "overflow": null,
      "overflow_x": null,
      "overflow_y": null,
      "padding": null,
      "right": null,
      "top": null,
      "visibility": null,
      "width": null
     }
    },
    "9d91a5a9bc154466b20837ea195aaebe": {
     "model_module": "@jupyter-widgets/base",
     "model_module_version": "1.2.0",
     "model_name": "LayoutModel",
     "state": {
      "_model_module": "@jupyter-widgets/base",
      "_model_module_version": "1.2.0",
      "_model_name": "LayoutModel",
      "_view_count": null,
      "_view_module": "@jupyter-widgets/base",
      "_view_module_version": "1.2.0",
      "_view_name": "LayoutView",
      "align_content": null,
      "align_items": null,
      "align_self": null,
      "border": null,
      "bottom": null,
      "display": null,
      "flex": null,
      "flex_flow": null,
      "grid_area": null,
      "grid_auto_columns": null,
      "grid_auto_flow": null,
      "grid_auto_rows": null,
      "grid_column": null,
      "grid_gap": null,
      "grid_row": null,
      "grid_template_areas": null,
      "grid_template_columns": null,
      "grid_template_rows": null,
      "height": null,
      "justify_content": null,
      "justify_items": null,
      "left": null,
      "margin": null,
      "max_height": null,
      "max_width": null,
      "min_height": null,
      "min_width": null,
      "object_fit": null,
      "object_position": null,
      "order": null,
      "overflow": null,
      "overflow_x": null,
      "overflow_y": null,
      "padding": null,
      "right": null,
      "top": null,
      "visibility": null,
      "width": null
     }
    },
    "9eba896a50cd4c5ab8bcbfeb45a47410": {
     "model_module": "@jupyter-widgets/controls",
     "model_module_version": "1.5.0",
     "model_name": "HBoxModel",
     "state": {
      "_dom_classes": [],
      "_model_module": "@jupyter-widgets/controls",
      "_model_module_version": "1.5.0",
      "_model_name": "HBoxModel",
      "_view_count": null,
      "_view_module": "@jupyter-widgets/controls",
      "_view_module_version": "1.5.0",
      "_view_name": "HBoxView",
      "box_style": "",
      "children": [
       "IPY_MODEL_b320b22044b44cbf8ea928b58fbef4fd",
       "IPY_MODEL_b5b2342c2892475596508d82e5e70d31",
       "IPY_MODEL_0feb60349abc4d77bdf5fdd68bad3789"
      ],
      "layout": "IPY_MODEL_8c82048d549541a7828e5a84b63c7b2f"
     }
    },
    "a3c7326c831e40a9b7cf45ed710597a6": {
     "model_module": "@jupyter-widgets/base",
     "model_module_version": "1.2.0",
     "model_name": "LayoutModel",
     "state": {
      "_model_module": "@jupyter-widgets/base",
      "_model_module_version": "1.2.0",
      "_model_name": "LayoutModel",
      "_view_count": null,
      "_view_module": "@jupyter-widgets/base",
      "_view_module_version": "1.2.0",
      "_view_name": "LayoutView",
      "align_content": null,
      "align_items": null,
      "align_self": null,
      "border": null,
      "bottom": null,
      "display": null,
      "flex": null,
      "flex_flow": null,
      "grid_area": null,
      "grid_auto_columns": null,
      "grid_auto_flow": null,
      "grid_auto_rows": null,
      "grid_column": null,
      "grid_gap": null,
      "grid_row": null,
      "grid_template_areas": null,
      "grid_template_columns": null,
      "grid_template_rows": null,
      "height": null,
      "justify_content": null,
      "justify_items": null,
      "left": null,
      "margin": null,
      "max_height": null,
      "max_width": null,
      "min_height": null,
      "min_width": null,
      "object_fit": null,
      "object_position": null,
      "order": null,
      "overflow": null,
      "overflow_x": null,
      "overflow_y": null,
      "padding": null,
      "right": null,
      "top": null,
      "visibility": null,
      "width": null
     }
    },
    "b2b189e89a1c402d8b80f75a2583bf0c": {
     "model_module": "@jupyter-widgets/controls",
     "model_module_version": "1.5.0",
     "model_name": "FloatProgressModel",
     "state": {
      "_dom_classes": [],
      "_model_module": "@jupyter-widgets/controls",
      "_model_module_version": "1.5.0",
      "_model_name": "FloatProgressModel",
      "_view_count": null,
      "_view_module": "@jupyter-widgets/controls",
      "_view_module_version": "1.5.0",
      "_view_name": "ProgressView",
      "bar_style": "success",
      "description": "",
      "description_tooltip": null,
      "layout": "IPY_MODEL_7b430eb0ae30420b8eff356fd08ad62f",
      "max": 58,
      "min": 0,
      "orientation": "horizontal",
      "style": "IPY_MODEL_6e599b0827b44dff90705e1bd4d02115",
      "value": 58
     }
    },
    "b320b22044b44cbf8ea928b58fbef4fd": {
     "model_module": "@jupyter-widgets/controls",
     "model_module_version": "1.5.0",
     "model_name": "HTMLModel",
     "state": {
      "_dom_classes": [],
      "_model_module": "@jupyter-widgets/controls",
      "_model_module_version": "1.5.0",
      "_model_name": "HTMLModel",
      "_view_count": null,
      "_view_module": "@jupyter-widgets/controls",
      "_view_module_version": "1.5.0",
      "_view_name": "HTMLView",
      "description": "",
      "description_tooltip": null,
      "layout": "IPY_MODEL_1c9cc65eeff64100b80fcab5ae6ecb19",
      "placeholder": "​",
      "style": "IPY_MODEL_f14b7d4b6c634d95b301b8e462c31f51",
      "value": "100%"
     }
    },
    "b5b2342c2892475596508d82e5e70d31": {
     "model_module": "@jupyter-widgets/controls",
     "model_module_version": "1.5.0",
     "model_name": "FloatProgressModel",
     "state": {
      "_dom_classes": [],
      "_model_module": "@jupyter-widgets/controls",
      "_model_module_version": "1.5.0",
      "_model_name": "FloatProgressModel",
      "_view_count": null,
      "_view_module": "@jupyter-widgets/controls",
      "_view_module_version": "1.5.0",
      "_view_name": "ProgressView",
      "bar_style": "success",
      "description": "",
      "description_tooltip": null,
      "layout": "IPY_MODEL_9d91a5a9bc154466b20837ea195aaebe",
      "max": 1791,
      "min": 0,
      "orientation": "horizontal",
      "style": "IPY_MODEL_4315d65118b04b2eb5ea9834c34dab8b",
      "value": 1791
     }
    },
    "bb96dc3f28104cd0b347a289766cc8df": {
     "model_module": "@jupyter-widgets/base",
     "model_module_version": "1.2.0",
     "model_name": "LayoutModel",
     "state": {
      "_model_module": "@jupyter-widgets/base",
      "_model_module_version": "1.2.0",
      "_model_name": "LayoutModel",
      "_view_count": null,
      "_view_module": "@jupyter-widgets/base",
      "_view_module_version": "1.2.0",
      "_view_name": "LayoutView",
      "align_content": null,
      "align_items": null,
      "align_self": null,
      "border": null,
      "bottom": null,
      "display": null,
      "flex": null,
      "flex_flow": null,
      "grid_area": null,
      "grid_auto_columns": null,
      "grid_auto_flow": null,
      "grid_auto_rows": null,
      "grid_column": null,
      "grid_gap": null,
      "grid_row": null,
      "grid_template_areas": null,
      "grid_template_columns": null,
      "grid_template_rows": null,
      "height": null,
      "justify_content": null,
      "justify_items": null,
      "left": null,
      "margin": null,
      "max_height": null,
      "max_width": null,
      "min_height": null,
      "min_width": null,
      "object_fit": null,
      "object_position": null,
      "order": null,
      "overflow": null,
      "overflow_x": null,
      "overflow_y": null,
      "padding": null,
      "right": null,
      "top": null,
      "visibility": null,
      "width": null
     }
    },
    "e65133d02be94e33af65b11c80ace4fd": {
     "model_module": "@jupyter-widgets/base",
     "model_module_version": "1.2.0",
     "model_name": "LayoutModel",
     "state": {
      "_model_module": "@jupyter-widgets/base",
      "_model_module_version": "1.2.0",
      "_model_name": "LayoutModel",
      "_view_count": null,
      "_view_module": "@jupyter-widgets/base",
      "_view_module_version": "1.2.0",
      "_view_name": "LayoutView",
      "align_content": null,
      "align_items": null,
      "align_self": null,
      "border": null,
      "bottom": null,
      "display": null,
      "flex": null,
      "flex_flow": null,
      "grid_area": null,
      "grid_auto_columns": null,
      "grid_auto_flow": null,
      "grid_auto_rows": null,
      "grid_column": null,
      "grid_gap": null,
      "grid_row": null,
      "grid_template_areas": null,
      "grid_template_columns": null,
      "grid_template_rows": null,
      "height": null,
      "justify_content": null,
      "justify_items": null,
      "left": null,
      "margin": null,
      "max_height": null,
      "max_width": null,
      "min_height": null,
      "min_width": null,
      "object_fit": null,
      "object_position": null,
      "order": null,
      "overflow": null,
      "overflow_x": null,
      "overflow_y": null,
      "padding": null,
      "right": null,
      "top": null,
      "visibility": null,
      "width": null
     }
    },
    "ea08319d1a18483ca377ce52f1ef9969": {
     "model_module": "@jupyter-widgets/controls",
     "model_module_version": "1.5.0",
     "model_name": "ProgressStyleModel",
     "state": {
      "_model_module": "@jupyter-widgets/controls",
      "_model_module_version": "1.5.0",
      "_model_name": "ProgressStyleModel",
      "_view_count": null,
      "_view_module": "@jupyter-widgets/base",
      "_view_module_version": "1.2.0",
      "_view_name": "StyleView",
      "bar_color": null,
      "description_width": ""
     }
    },
    "f14b7d4b6c634d95b301b8e462c31f51": {
     "model_module": "@jupyter-widgets/controls",
     "model_module_version": "1.5.0",
     "model_name": "DescriptionStyleModel",
     "state": {
      "_model_module": "@jupyter-widgets/controls",
      "_model_module_version": "1.5.0",
      "_model_name": "DescriptionStyleModel",
      "_view_count": null,
      "_view_module": "@jupyter-widgets/base",
      "_view_module_version": "1.2.0",
      "_view_name": "StyleView",
      "description_width": ""
     }
    }
   }
  }
 },
 "nbformat": 4,
 "nbformat_minor": 4
}
